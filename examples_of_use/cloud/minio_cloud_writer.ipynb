{
 "cells": [
  {
   "cell_type": "markdown",
   "id": "11d414aa-8c80-419f-9228-4b271fbdf410",
   "metadata": {},
   "source": [
    "\n",
    "### Define your Minio Connection Configuration\n",
    "Use a yaml file to define the connection information needed to connect to your MinioS3 bucket. An example configuration file is provided. Verify that your connection information is valid first and then update it in the yaml file. You can use this file to connect to your bucket in the future. Do not share your connection information, don't check it into your repository. The utils module provides a method to read your config file into a python dictionary that you can use to connect to your S3 bucket."
   ]
  },
  {
   "cell_type": "code",
   "execution_count": 1,
   "id": "be2d4ccc-75d1-4e16-ac6d-89dcffff4d81",
   "metadata": {},
   "outputs": [],
   "source": [
    "from kmds.utils.config_reader import get_config\n",
    "from minio import Minio"
   ]
  },
  {
   "cell_type": "code",
   "execution_count": 2,
   "id": "1015498a-d8ce-4476-ad0f-54eca6882cd9",
   "metadata": {},
   "outputs": [],
   "source": [
    "s3_cfg = get_config(\"./play_minio_cfg.yaml\")"
   ]
  },
  {
   "cell_type": "markdown",
   "id": "3be2ce8a-2253-4d53-8cf5-ae0d144150c1",
   "metadata": {},
   "source": [
    "## Define the file to write to S3\n",
    "Verify that the file you want to write to the remote location exists and then upload it to the remote bucket\n",
    "Note:\n",
    "You need to provide:\n",
    "1. The local file to upload to the remote bucket\n",
    "2. The bucket name in the remote location you want to write to\n",
    "3. The name of the file in remote bucket that your uploaded file will have after the upload completes."
   ]
  },
  {
   "cell_type": "code",
   "execution_count": 3,
   "id": "8e136a3c-b8a7-4ff2-b694-19a5311c34cc",
   "metadata": {},
   "outputs": [],
   "source": [
    "fp = \"../../data/kmds/incident_event_log_02.csv\"\n"
   ]
  },
  {
   "cell_type": "code",
   "execution_count": 4,
   "id": "bd911690-cf89-446c-882e-1f940be352c7",
   "metadata": {},
   "outputs": [],
   "source": [
    "from kmds.cloud_writers.miniowriter import MinioWriter"
   ]
  },
  {
   "cell_type": "code",
   "execution_count": 5,
   "id": "3070b1c7-971c-4b6d-92d9-0f3eb29e14e7",
   "metadata": {},
   "outputs": [],
   "source": [
    "cw = MinioWriter(s3_cfg)"
   ]
  },
  {
   "cell_type": "code",
   "execution_count": 6,
   "id": "31b58f44-2af6-49b4-aa4c-40b10bf31dad",
   "metadata": {},
   "outputs": [],
   "source": [
    "bucket_name = s3_cfg[\"BUCKET_NAME\"]\n",
    "destination_file = \"incident_event_log_02.csv\""
   ]
  },
  {
   "cell_type": "code",
   "execution_count": 7,
   "id": "3f81b2a3-785f-45cb-810a-97919d314d11",
   "metadata": {},
   "outputs": [],
   "source": [
    "cw.write_data(bucket_name = bucket_name, source_file=fp, destination_file=destination_file)"
   ]
  },
  {
   "cell_type": "code",
   "execution_count": null,
   "id": "89016b92-996e-4957-8c07-bf77220965fa",
   "metadata": {},
   "outputs": [],
   "source": []
  }
 ],
 "metadata": {
  "kernelspec": {
   "display_name": "Python 3 (ipykernel)",
   "language": "python",
   "name": "python3"
  },
  "language_info": {
   "codemirror_mode": {
    "name": "ipython",
    "version": 3
   },
   "file_extension": ".py",
   "mimetype": "text/x-python",
   "name": "python",
   "nbconvert_exporter": "python",
   "pygments_lexer": "ipython3",
   "version": "3.10.13"
  }
 },
 "nbformat": 4,
 "nbformat_minor": 5
}
