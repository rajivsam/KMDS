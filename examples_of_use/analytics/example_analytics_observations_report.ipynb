{
 "cells": [
  {
   "cell_type": "markdown",
   "id": "d08c018c-9847-458a-a3d9-3544aad892f1",
   "metadata": {},
   "source": [
    "## Specify the Knowledge Base to use"
   ]
  },
  {
   "cell_type": "code",
   "execution_count": 1,
   "id": "a43dcda6-5670-4ff8-8713-68dfad4fc06d",
   "metadata": {},
   "outputs": [],
   "source": [
    "import kmds\n",
    "from tagging.tag_types import DataRepresentationTags\n",
    "from owlready2 import *\n",
    "from kmds.utils.load_utils import *\n",
    "from kmds.utils.path_utils import get_package_kb_path\n",
    "KNOWLEDGE_BASE = \"../../kmds/examples/example_analytics_kb_app_workflow.xml\"\n",
    "onto2 :Ontology = load_kb(KNOWLEDGE_BASE)\n",
    "import pandas as pd\n",
    "pd.set_option('display.max_colwidth', None)"
   ]
  },
  {
   "cell_type": "markdown",
   "id": "e3025591-434f-4cef-959c-4546b1b2e48c",
   "metadata": {},
   "source": [
    "## Load the Exploratory Observations"
   ]
  },
  {
   "cell_type": "code",
   "execution_count": 2,
   "id": "eb288f83-ac20-45f5-89e1-c5bea85b0fba",
   "metadata": {},
   "outputs": [
    {
     "data": {
      "text/html": [
       "<div>\n",
       "<style scoped>\n",
       "    .dataframe tbody tr th:only-of-type {\n",
       "        vertical-align: middle;\n",
       "    }\n",
       "\n",
       "    .dataframe tbody tr th {\n",
       "        vertical-align: top;\n",
       "    }\n",
       "\n",
       "    .dataframe thead th {\n",
       "        text-align: right;\n",
       "    }\n",
       "</style>\n",
       "<table border=\"1\" class=\"dataframe\">\n",
       "  <thead>\n",
       "    <tr style=\"text-align: right;\">\n",
       "      <th></th>\n",
       "      <th>obs_type</th>\n",
       "      <th>intent</th>\n",
       "      <th>finding</th>\n",
       "      <th>finding_seq</th>\n",
       "    </tr>\n",
       "  </thead>\n",
       "  <tbody>\n",
       "    <tr>\n",
       "      <th>0</th>\n",
       "      <td>Data Quality Observation</td>\n",
       "      <td>DATA_UNDERSTANDING</td>\n",
       "      <td>There is inconsistency in the datetime format for both ticket creation and ticket closed times.The parse function from the dateutil library is used to parse times into ISO format and then use that form for the calculation of the time to resolution</td>\n",
       "      <td>4</td>\n",
       "    </tr>\n",
       "    <tr>\n",
       "      <th>1</th>\n",
       "      <td>Data Quality Observation</td>\n",
       "      <td>DATA_UNDERSTANDING</td>\n",
       "      <td>This use case computes the time to resolve a ticket. This is time that has elapsed between the ticket creation and the ticketclosed time stamps. Only closed tickets andtickets with valid values for both these timestamps are used.</td>\n",
       "      <td>3</td>\n",
       "    </tr>\n",
       "    <tr>\n",
       "      <th>2</th>\n",
       "      <td>Relevance Observation</td>\n",
       "      <td>DATA_UNDERSTANDING</td>\n",
       "      <td>Only (number', 'sys_created_at', 'closed_at', 'assignment_group') are needed for this analysis</td>\n",
       "      <td>1</td>\n",
       "    </tr>\n",
       "    <tr>\n",
       "      <th>3</th>\n",
       "      <td>Relevance Observation</td>\n",
       "      <td>DATA_UNDERSTANDING</td>\n",
       "      <td>Only ticket activity in the second quarter of 2016 is needed for this analysis</td>\n",
       "      <td>2</td>\n",
       "    </tr>\n",
       "  </tbody>\n",
       "</table>\n",
       "</div>"
      ],
      "text/plain": [
       "                   obs_type              intent  \\\n",
       "0  Data Quality Observation  DATA_UNDERSTANDING   \n",
       "1  Data Quality Observation  DATA_UNDERSTANDING   \n",
       "2     Relevance Observation  DATA_UNDERSTANDING   \n",
       "3     Relevance Observation  DATA_UNDERSTANDING   \n",
       "\n",
       "                                                                                                                                                                                                                                                   finding  \\\n",
       "0  There is inconsistency in the datetime format for both ticket creation and ticket closed times.The parse function from the dateutil library is used to parse times into ISO format and then use that form for the calculation of the time to resolution   \n",
       "1                    This use case computes the time to resolve a ticket. This is time that has elapsed between the ticket creation and the ticketclosed time stamps. Only closed tickets andtickets with valid values for both these timestamps are used.   \n",
       "2                                                                                                                                                           Only (number', 'sys_created_at', 'closed_at', 'assignment_group') are needed for this analysis   \n",
       "3                                                                                                                                                                           Only ticket activity in the second quarter of 2016 is needed for this analysis   \n",
       "\n",
       "   finding_seq  \n",
       "0            4  \n",
       "1            3  \n",
       "2            1  \n",
       "3            2  "
      ]
     },
     "execution_count": 2,
     "metadata": {},
     "output_type": "execute_result"
    }
   ],
   "source": [
    "\n",
    "load_exp_observations(onto2)"
   ]
  },
  {
   "cell_type": "markdown",
   "id": "99584c8a-155a-4f80-8e95-82db262b9d0d",
   "metadata": {},
   "source": [
    "## Load the Data Representation Observations"
   ]
  },
  {
   "cell_type": "code",
   "execution_count": 3,
   "id": "d4483dba-342d-4ed0-ae3f-a62a5975c659",
   "metadata": {},
   "outputs": [
    {
     "data": {
      "text/html": [
       "<div>\n",
       "<style scoped>\n",
       "    .dataframe tbody tr th:only-of-type {\n",
       "        vertical-align: middle;\n",
       "    }\n",
       "\n",
       "    .dataframe tbody tr th {\n",
       "        vertical-align: top;\n",
       "    }\n",
       "\n",
       "    .dataframe thead th {\n",
       "        text-align: right;\n",
       "    }\n",
       "</style>\n",
       "<table border=\"1\" class=\"dataframe\">\n",
       "  <thead>\n",
       "    <tr style=\"text-align: right;\">\n",
       "      <th></th>\n",
       "      <th>obs_type</th>\n",
       "      <th>intent</th>\n",
       "      <th>finding</th>\n",
       "      <th>finding_seq</th>\n",
       "    </tr>\n",
       "  </thead>\n",
       "  <tbody>\n",
       "    <tr>\n",
       "      <th>0</th>\n",
       "      <td>Feature Engineering Observation</td>\n",
       "      <td>FEATURE_ASSESSMENT</td>\n",
       "      <td>The resolution time attribute is defined. It is calculated as the time difference between closing and creationtimes of the ticket.</td>\n",
       "      <td>1</td>\n",
       "    </tr>\n",
       "  </tbody>\n",
       "</table>\n",
       "</div>"
      ],
      "text/plain": [
       "                          obs_type              intent  \\\n",
       "0  Feature Engineering Observation  FEATURE_ASSESSMENT   \n",
       "\n",
       "                                                                                                                              finding  \\\n",
       "0  The resolution time attribute is defined. It is calculated as the time difference between closing and creationtimes of the ticket.   \n",
       "\n",
       "   finding_seq  \n",
       "0            1  "
      ]
     },
     "execution_count": 3,
     "metadata": {},
     "output_type": "execute_result"
    }
   ],
   "source": [
    "\n",
    "load_data_rep_observations(onto2)"
   ]
  },
  {
   "cell_type": "markdown",
   "id": "985d674d-42b8-48d4-92b0-9b40e0b47dc0",
   "metadata": {},
   "source": [
    "## Load the Modelling Choice Observations"
   ]
  },
  {
   "cell_type": "code",
   "execution_count": 4,
   "id": "beabd768-9da7-48b4-bc31-66c287ae5616",
   "metadata": {},
   "outputs": [
    {
     "data": {
      "text/html": [
       "<div>\n",
       "<style scoped>\n",
       "    .dataframe tbody tr th:only-of-type {\n",
       "        vertical-align: middle;\n",
       "    }\n",
       "\n",
       "    .dataframe tbody tr th {\n",
       "        vertical-align: top;\n",
       "    }\n",
       "\n",
       "    .dataframe thead th {\n",
       "        text-align: right;\n",
       "    }\n",
       "</style>\n",
       "<table border=\"1\" class=\"dataframe\">\n",
       "  <thead>\n",
       "    <tr style=\"text-align: right;\">\n",
       "      <th></th>\n",
       "    </tr>\n",
       "  </thead>\n",
       "  <tbody>\n",
       "  </tbody>\n",
       "</table>\n",
       "</div>"
      ],
      "text/plain": [
       "Empty DataFrame\n",
       "Columns: []\n",
       "Index: []"
      ]
     },
     "metadata": {},
     "output_type": "display_data"
    }
   ],
   "source": [
    "display(load_modelling_choice_observations(onto2))"
   ]
  },
  {
   "cell_type": "markdown",
   "id": "e87ff1b4-6297-4125-b08d-405fef71bf8f",
   "metadata": {},
   "source": [
    "## Load the Model Selection Observations"
   ]
  },
  {
   "cell_type": "code",
   "execution_count": 5,
   "id": "13d04df7-bda9-4ba9-b9d1-a18667dae02a",
   "metadata": {},
   "outputs": [
    {
     "data": {
      "text/html": [
       "<div>\n",
       "<style scoped>\n",
       "    .dataframe tbody tr th:only-of-type {\n",
       "        vertical-align: middle;\n",
       "    }\n",
       "\n",
       "    .dataframe tbody tr th {\n",
       "        vertical-align: top;\n",
       "    }\n",
       "\n",
       "    .dataframe thead th {\n",
       "        text-align: right;\n",
       "    }\n",
       "</style>\n",
       "<table border=\"1\" class=\"dataframe\">\n",
       "  <thead>\n",
       "    <tr style=\"text-align: right;\">\n",
       "      <th></th>\n",
       "      <th>obs_type</th>\n",
       "      <th>intent</th>\n",
       "      <th>finding</th>\n",
       "      <th>finding_seq</th>\n",
       "    </tr>\n",
       "  </thead>\n",
       "  <tbody>\n",
       "    <tr>\n",
       "      <th>0</th>\n",
       "      <td>Model Selection Observation</td>\n",
       "      <td>MODEL_SELECTION</td>\n",
       "      <td>A small group of support groups account for most ticket closures</td>\n",
       "      <td>1</td>\n",
       "    </tr>\n",
       "    <tr>\n",
       "      <th>1</th>\n",
       "      <td>Model Selection Observation</td>\n",
       "      <td>MODEL_SELECTION</td>\n",
       "      <td>Many support groups (four from model 1 results) work on longer activity tickets</td>\n",
       "      <td>2</td>\n",
       "    </tr>\n",
       "    <tr>\n",
       "      <th>2</th>\n",
       "      <td>Model Selection Observation</td>\n",
       "      <td>MODEL_SELECTION</td>\n",
       "      <td>A small group of support groups account for most ticket closures</td>\n",
       "      <td>1</td>\n",
       "    </tr>\n",
       "    <tr>\n",
       "      <th>3</th>\n",
       "      <td>Model Selection Observation</td>\n",
       "      <td>MODEL_SELECTION</td>\n",
       "      <td>Many support groups (four from model 1 results) work on longer activity tickets</td>\n",
       "      <td>2</td>\n",
       "    </tr>\n",
       "  </tbody>\n",
       "</table>\n",
       "</div>"
      ],
      "text/plain": [
       "                      obs_type           intent  \\\n",
       "0  Model Selection Observation  MODEL_SELECTION   \n",
       "1  Model Selection Observation  MODEL_SELECTION   \n",
       "2  Model Selection Observation  MODEL_SELECTION   \n",
       "3  Model Selection Observation  MODEL_SELECTION   \n",
       "\n",
       "                                                                           finding  \\\n",
       "0                 A small group of support groups account for most ticket closures   \n",
       "1  Many support groups (four from model 1 results) work on longer activity tickets   \n",
       "2                 A small group of support groups account for most ticket closures   \n",
       "3  Many support groups (four from model 1 results) work on longer activity tickets   \n",
       "\n",
       "   finding_seq  \n",
       "0            1  \n",
       "1            2  \n",
       "2            1  \n",
       "3            2  "
      ]
     },
     "execution_count": 5,
     "metadata": {},
     "output_type": "execute_result"
    }
   ],
   "source": [
    "load_model_selection_observations(onto2)"
   ]
  },
  {
   "cell_type": "code",
   "execution_count": null,
   "id": "b52d903c-21bd-4120-a789-1649da2b5a43",
   "metadata": {},
   "outputs": [],
   "source": []
  }
 ],
 "metadata": {
  "kernelspec": {
   "display_name": "Python 3 (ipykernel)",
   "language": "python",
   "name": "python3"
  },
  "language_info": {
   "codemirror_mode": {
    "name": "ipython",
    "version": 3
   },
   "file_extension": ".py",
   "mimetype": "text/x-python",
   "name": "python",
   "nbconvert_exporter": "python",
   "pygments_lexer": "ipython3",
   "version": "3.10.13"
  }
 },
 "nbformat": 4,
 "nbformat_minor": 5
}
