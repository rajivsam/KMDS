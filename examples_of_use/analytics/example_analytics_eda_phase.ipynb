{
 "cells": [
  {
   "cell_type": "markdown",
   "id": "49fa0c3f-5027-4c02-8a79-e64da132b184",
   "metadata": {},
   "source": [
    "## Overview\n",
    "This notebook does the data preparation for the analytics exercise. Please see the [example narrative](example_narrative.md) for details of the analytics task and process used to develop the solution. The first step in the process is exploratory data analysis. This phase consists of the following steps:\n",
    "1. Read the raw data set\n",
    "2. Select the subset of attributes that are need for this use case\n",
    "3. Analyze the (subsetted) dataset for data quality\n",
    "4. Fix attribute noise\n",
    "5. Write the denoised data for the next phase in the workflow.\n",
    "6. Log the relevance and noise processing details done as part of exploratory data analysis to KMDS\n"
   ]
  },
  {
   "cell_type": "markdown",
   "id": "4e5e5559-0417-4c21-8598-31c72990c586",
   "metadata": {
    "canvas": {
     "comments": [],
     "componentType": "CodeCell",
     "copiedOriginId": null,
     "diskcache": false,
     "headerColor": "transparent",
     "id": "d695d8f0-e16a-4d13-98b8-1e04ed2e7c9f",
     "isComponent": false,
     "name": "",
     "parents": []
    }
   },
   "source": [
    "## Read Data"
   ]
  },
  {
   "cell_type": "code",
   "execution_count": 1,
   "id": "8a05664b-47fe-4959-aacb-92e183ac7de6",
   "metadata": {
    "canvas": {
     "comments": [],
     "componentType": "CodeCell",
     "copiedOriginId": null,
     "diskcache": false,
     "headerColor": "transparent",
     "id": "a0fe86b2-1937-4092-9dae-b4a7d091825c",
     "isComponent": false,
     "name": "",
     "parents": []
    },
    "tags": []
   },
   "outputs": [
    {
     "name": "stderr",
     "output_type": "stream",
     "text": [
      "/var/folders/fb/t_m5qpcj6qq85rvkh73vbxh40000gn/T/ipykernel_68788/423613971.py:3: DtypeWarning: Columns (19,31) have mixed types. Specify dtype option on import or set low_memory=False.\n",
      "  df = pd.read_csv(fp)\n"
     ]
    }
   ],
   "source": [
    "import pandas as pd\n",
    "fp = \"../../kmds/examples/incident_event_log_02.csv\"\n",
    "df = pd.read_csv(fp)"
   ]
  },
  {
   "cell_type": "markdown",
   "id": "c5983c92-d0c0-4dc4-8d56-4f4abc013157",
   "metadata": {
    "canvas": {
     "comments": [],
     "componentType": "CodeCell",
     "copiedOriginId": null,
     "diskcache": false,
     "headerColor": "transparent",
     "id": "e65bd510-8f39-4afe-93d5-f742a2e3f94c",
     "isComponent": false,
     "name": "",
     "parents": []
    }
   },
   "source": [
    "## Select Columns Needed"
   ]
  },
  {
   "cell_type": "code",
   "execution_count": 2,
   "id": "d40100bc-bcd3-4dba-b5fb-92f42e0a7a0b",
   "metadata": {},
   "outputs": [
    {
     "data": {
      "text/html": [
       "<div>\n",
       "<style scoped>\n",
       "    .dataframe tbody tr th:only-of-type {\n",
       "        vertical-align: middle;\n",
       "    }\n",
       "\n",
       "    .dataframe tbody tr th {\n",
       "        vertical-align: top;\n",
       "    }\n",
       "\n",
       "    .dataframe thead th {\n",
       "        text-align: right;\n",
       "    }\n",
       "</style>\n",
       "<table border=\"1\" class=\"dataframe\">\n",
       "  <thead>\n",
       "    <tr style=\"text-align: right;\">\n",
       "      <th></th>\n",
       "      <th>number</th>\n",
       "      <th>incident_state</th>\n",
       "      <th>active</th>\n",
       "      <th>reassignment_count</th>\n",
       "      <th>reopen_count</th>\n",
       "      <th>sys_mod_count</th>\n",
       "      <th>made_sla</th>\n",
       "      <th>caller_id</th>\n",
       "      <th>opened_by</th>\n",
       "      <th>opened_at</th>\n",
       "      <th>...</th>\n",
       "      <th>u_priority_confirmation</th>\n",
       "      <th>notify</th>\n",
       "      <th>problem_id</th>\n",
       "      <th>rfc</th>\n",
       "      <th>vendor</th>\n",
       "      <th>caused_by</th>\n",
       "      <th>closed_code</th>\n",
       "      <th>resolved_by</th>\n",
       "      <th>resolved_at</th>\n",
       "      <th>closed_at</th>\n",
       "    </tr>\n",
       "  </thead>\n",
       "  <tbody>\n",
       "    <tr>\n",
       "      <th>0</th>\n",
       "      <td>INC0000045</td>\n",
       "      <td>New</td>\n",
       "      <td>True</td>\n",
       "      <td>0</td>\n",
       "      <td>0</td>\n",
       "      <td>0</td>\n",
       "      <td>True</td>\n",
       "      <td>Caller 2403</td>\n",
       "      <td>Opened by  8</td>\n",
       "      <td>29/2/2016 01:16</td>\n",
       "      <td>...</td>\n",
       "      <td>False</td>\n",
       "      <td>Do Not Notify</td>\n",
       "      <td>NaN</td>\n",
       "      <td>NaN</td>\n",
       "      <td>NaN</td>\n",
       "      <td>NaN</td>\n",
       "      <td>code 5</td>\n",
       "      <td>Resolved by 149</td>\n",
       "      <td>29/2/2016 11:29</td>\n",
       "      <td>5/3/2016 12:00</td>\n",
       "    </tr>\n",
       "    <tr>\n",
       "      <th>1</th>\n",
       "      <td>INC0000045</td>\n",
       "      <td>Resolved</td>\n",
       "      <td>True</td>\n",
       "      <td>0</td>\n",
       "      <td>0</td>\n",
       "      <td>2</td>\n",
       "      <td>True</td>\n",
       "      <td>Caller 2403</td>\n",
       "      <td>Opened by  8</td>\n",
       "      <td>29/2/2016 01:16</td>\n",
       "      <td>...</td>\n",
       "      <td>False</td>\n",
       "      <td>Do Not Notify</td>\n",
       "      <td>NaN</td>\n",
       "      <td>NaN</td>\n",
       "      <td>NaN</td>\n",
       "      <td>NaN</td>\n",
       "      <td>code 5</td>\n",
       "      <td>Resolved by 149</td>\n",
       "      <td>29/2/2016 11:29</td>\n",
       "      <td>5/3/2016 12:00</td>\n",
       "    </tr>\n",
       "    <tr>\n",
       "      <th>2</th>\n",
       "      <td>INC0000045</td>\n",
       "      <td>Resolved</td>\n",
       "      <td>True</td>\n",
       "      <td>0</td>\n",
       "      <td>0</td>\n",
       "      <td>3</td>\n",
       "      <td>True</td>\n",
       "      <td>Caller 2403</td>\n",
       "      <td>Opened by  8</td>\n",
       "      <td>29/2/2016 01:16</td>\n",
       "      <td>...</td>\n",
       "      <td>False</td>\n",
       "      <td>Do Not Notify</td>\n",
       "      <td>NaN</td>\n",
       "      <td>NaN</td>\n",
       "      <td>NaN</td>\n",
       "      <td>NaN</td>\n",
       "      <td>code 5</td>\n",
       "      <td>Resolved by 149</td>\n",
       "      <td>29/2/2016 11:29</td>\n",
       "      <td>5/3/2016 12:00</td>\n",
       "    </tr>\n",
       "    <tr>\n",
       "      <th>3</th>\n",
       "      <td>INC0000045</td>\n",
       "      <td>Closed</td>\n",
       "      <td>False</td>\n",
       "      <td>0</td>\n",
       "      <td>0</td>\n",
       "      <td>4</td>\n",
       "      <td>True</td>\n",
       "      <td>Caller 2403</td>\n",
       "      <td>Opened by  8</td>\n",
       "      <td>29/2/2016 01:16</td>\n",
       "      <td>...</td>\n",
       "      <td>False</td>\n",
       "      <td>Do Not Notify</td>\n",
       "      <td>NaN</td>\n",
       "      <td>NaN</td>\n",
       "      <td>NaN</td>\n",
       "      <td>NaN</td>\n",
       "      <td>code 5</td>\n",
       "      <td>Resolved by 149</td>\n",
       "      <td>29/2/2016 11:29</td>\n",
       "      <td>5/3/2016 12:00</td>\n",
       "    </tr>\n",
       "    <tr>\n",
       "      <th>4</th>\n",
       "      <td>INC0000047</td>\n",
       "      <td>New</td>\n",
       "      <td>True</td>\n",
       "      <td>0</td>\n",
       "      <td>0</td>\n",
       "      <td>0</td>\n",
       "      <td>True</td>\n",
       "      <td>Caller 2403</td>\n",
       "      <td>Opened by  397</td>\n",
       "      <td>29/2/2016 04:40</td>\n",
       "      <td>...</td>\n",
       "      <td>False</td>\n",
       "      <td>Do Not Notify</td>\n",
       "      <td>NaN</td>\n",
       "      <td>NaN</td>\n",
       "      <td>NaN</td>\n",
       "      <td>NaN</td>\n",
       "      <td>code 5</td>\n",
       "      <td>Resolved by 81</td>\n",
       "      <td>1/3/2016 09:52</td>\n",
       "      <td>6/3/2016 10:00</td>\n",
       "    </tr>\n",
       "  </tbody>\n",
       "</table>\n",
       "<p>5 rows × 36 columns</p>\n",
       "</div>"
      ],
      "text/plain": [
       "       number incident_state  active  reassignment_count  reopen_count  \\\n",
       "0  INC0000045            New    True                   0             0   \n",
       "1  INC0000045       Resolved    True                   0             0   \n",
       "2  INC0000045       Resolved    True                   0             0   \n",
       "3  INC0000045         Closed   False                   0             0   \n",
       "4  INC0000047            New    True                   0             0   \n",
       "\n",
       "   sys_mod_count  made_sla    caller_id       opened_by        opened_at  ...  \\\n",
       "0              0      True  Caller 2403    Opened by  8  29/2/2016 01:16  ...   \n",
       "1              2      True  Caller 2403    Opened by  8  29/2/2016 01:16  ...   \n",
       "2              3      True  Caller 2403    Opened by  8  29/2/2016 01:16  ...   \n",
       "3              4      True  Caller 2403    Opened by  8  29/2/2016 01:16  ...   \n",
       "4              0      True  Caller 2403  Opened by  397  29/2/2016 04:40  ...   \n",
       "\n",
       "  u_priority_confirmation         notify problem_id  rfc vendor caused_by  \\\n",
       "0                   False  Do Not Notify        NaN  NaN    NaN       NaN   \n",
       "1                   False  Do Not Notify        NaN  NaN    NaN       NaN   \n",
       "2                   False  Do Not Notify        NaN  NaN    NaN       NaN   \n",
       "3                   False  Do Not Notify        NaN  NaN    NaN       NaN   \n",
       "4                   False  Do Not Notify        NaN  NaN    NaN       NaN   \n",
       "\n",
       "  closed_code      resolved_by      resolved_at       closed_at  \n",
       "0      code 5  Resolved by 149  29/2/2016 11:29  5/3/2016 12:00  \n",
       "1      code 5  Resolved by 149  29/2/2016 11:29  5/3/2016 12:00  \n",
       "2      code 5  Resolved by 149  29/2/2016 11:29  5/3/2016 12:00  \n",
       "3      code 5  Resolved by 149  29/2/2016 11:29  5/3/2016 12:00  \n",
       "4      code 5   Resolved by 81   1/3/2016 09:52  6/3/2016 10:00  \n",
       "\n",
       "[5 rows x 36 columns]"
      ]
     },
     "execution_count": 2,
     "metadata": {},
     "output_type": "execute_result"
    }
   ],
   "source": [
    "df.head()"
   ]
  },
  {
   "cell_type": "code",
   "execution_count": 3,
   "id": "1c0c8fa2-8833-4789-ba67-97da683d0cea",
   "metadata": {
    "canvas": {
     "comments": [],
     "componentType": "CodeCell",
     "copiedOriginId": null,
     "diskcache": false,
     "headerColor": "transparent",
     "id": "45579521-8911-44de-8cd2-b360a203f39a",
     "isComponent": false,
     "name": "",
     "parents": []
    },
    "tags": []
   },
   "outputs": [],
   "source": [
    "SELECT_COLS = ['number', 'sys_created_at', 'closed_at', 'assignment_group']\n",
    "closed_tickets = df.incident_state == \"Closed\"\n",
    "df_closed_tickets = df[closed_tickets][SELECT_COLS].copy()\n",
    "del df\n",
    "df_closed_tickets = df_closed_tickets.reset_index(drop=True)"
   ]
  },
  {
   "cell_type": "code",
   "execution_count": 4,
   "id": "a8b9c5e5-a3ef-437c-a68f-d77c328f64d4",
   "metadata": {},
   "outputs": [],
   "source": [
    "import dateutil\n",
    "from dateutil.parser import parse\n"
   ]
  },
  {
   "cell_type": "markdown",
   "id": "f4b226d1-dfe9-4070-964c-1b73d7772042",
   "metadata": {
    "canvas": {
     "comments": [],
     "componentType": "CodeCell",
     "copiedOriginId": null,
     "diskcache": false,
     "headerColor": "transparent",
     "id": "7f0a39d2-6cd8-4caa-851a-5b68df72bf4e",
     "isComponent": false,
     "name": "",
     "parents": []
    }
   },
   "source": [
    "## Inspect Null Information in Dataset"
   ]
  },
  {
   "cell_type": "code",
   "execution_count": 5,
   "id": "9f379c82-914b-445a-a4ff-94dd97dc319f",
   "metadata": {
    "canvas": {
     "comments": [],
     "componentType": "CodeCell",
     "copiedOriginId": null,
     "diskcache": false,
     "headerColor": "transparent",
     "id": "65ae403c-7f88-4f60-a555-0b59f3cc37a3",
     "isComponent": false,
     "name": "",
     "parents": []
    }
   },
   "outputs": [
    {
     "name": "stdout",
     "output_type": "stream",
     "text": [
      "<class 'pandas.core.frame.DataFrame'>\n",
      "RangeIndex: 24985 entries, 0 to 24984\n",
      "Data columns (total 4 columns):\n",
      " #   Column            Non-Null Count  Dtype \n",
      "---  ------            --------------  ----- \n",
      " 0   number            24985 non-null  object\n",
      " 1   sys_created_at    13466 non-null  object\n",
      " 2   closed_at         24985 non-null  object\n",
      " 3   assignment_group  22816 non-null  object\n",
      "dtypes: object(4)\n",
      "memory usage: 780.9+ KB\n"
     ]
    }
   ],
   "source": [
    "df_closed_tickets.info()"
   ]
  },
  {
   "cell_type": "markdown",
   "id": "2e5dc62c-8120-4614-b1ee-061fc20ecbbf",
   "metadata": {},
   "source": [
    "## Noise Observations\n",
    "\n",
    "1. This use case computes the time to resolve a ticket. This is time that has elapsed between the ticket creation and the ticket closed time stamps. Only closed tickets and tickets with valid values for both these timestamps are used.\n",
    "2. There is inconsistency in the datetime format for both ticket creation and ticket closed times. The parse function from the dateutil library is used to parse times into ISO format and then use that form for the calculation of the time to resolution\n",
    "   "
   ]
  },
  {
   "cell_type": "markdown",
   "id": "321a6e23-2fff-4f4d-a621-ac1b81881e9c",
   "metadata": {
    "canvas": {
     "comments": [],
     "componentType": "CodeCell",
     "copiedOriginId": null,
     "diskcache": false,
     "headerColor": "transparent",
     "id": "e52cf8fa-eada-4eb8-b780-5bce7e7761f8",
     "isComponent": false,
     "name": "",
     "parents": []
    }
   },
   "source": [
    "## Noise Filter #1 definition"
   ]
  },
  {
   "cell_type": "code",
   "execution_count": 6,
   "id": "edba0c39-9722-4477-a20d-ddead7025e17",
   "metadata": {
    "canvas": {
     "comments": [],
     "componentType": "CodeCell",
     "copiedOriginId": null,
     "diskcache": false,
     "headerColor": "transparent",
     "id": "c834e717-7a9b-445f-8dd9-00a7c624b9aa",
     "isComponent": false,
     "name": "",
     "parents": []
    },
    "tags": []
   },
   "outputs": [],
   "source": [
    "def noise_filter_1(row):\n",
    "    creation_date = row['sys_created_at']\n",
    "    valid_creation_date = True\n",
    "    valid_closed_date = True\n",
    "    cd = cls_dt = None\n",
    "    if pd.isna(creation_date):\n",
    "        valid_creation_date = False\n",
    "    else:\n",
    "        try:\n",
    "            creation_date = parse(creation_date)\n",
    "        except:\n",
    "            valid_creation_date = False\n",
    "    \n",
    "            \n",
    "    closed_date = row[\"closed_at\"]\n",
    "    \n",
    "    if pd.isna(closed_date):\n",
    "        valid_closed_date = False\n",
    "    else:\n",
    "        try:\n",
    "            cls_dt = parse(closed_date)\n",
    "\n",
    "        except:\n",
    "            valid_closed_date = False\n",
    "    \n",
    "    \n",
    "    clean_row = valid_creation_date & valid_closed_date\n",
    "    \n",
    "\n",
    "    return clean_row\n"
   ]
  },
  {
   "cell_type": "markdown",
   "id": "049a4be7-5170-4a2c-ac7e-ba55b7173599",
   "metadata": {
    "canvas": {
     "comments": [],
     "componentType": "CodeCell",
     "copiedOriginId": null,
     "diskcache": false,
     "headerColor": "transparent",
     "id": "1926fbec-5929-4f9c-a792-a25fd93622fc",
     "isComponent": false,
     "name": "",
     "parents": []
    }
   },
   "source": [
    "## Apply Noise Filter #1"
   ]
  },
  {
   "cell_type": "code",
   "execution_count": 7,
   "id": "1b11bad3-06fb-448f-a790-1fc5504470c1",
   "metadata": {
    "canvas": {
     "comments": [],
     "componentType": "CodeCell",
     "copiedOriginId": null,
     "diskcache": false,
     "headerColor": "transparent",
     "id": "20f62fde-ac09-447b-9ee5-822b6aab8549",
     "isComponent": false,
     "name": "",
     "parents": []
    },
    "tags": []
   },
   "outputs": [],
   "source": [
    "df_closed_tickets = df_closed_tickets[df_closed_tickets.apply(noise_filter_1, axis=1)]"
   ]
  },
  {
   "cell_type": "code",
   "execution_count": 8,
   "id": "94fd86cf-b909-4799-b1d4-7737468ea265",
   "metadata": {},
   "outputs": [],
   "source": [
    "df_closed_tickets[\"sys_created_at\"] = df_closed_tickets[\"sys_created_at\"].apply(parse) "
   ]
  },
  {
   "cell_type": "code",
   "execution_count": 9,
   "id": "5019036f-baae-4f63-8819-182085d991f4",
   "metadata": {},
   "outputs": [],
   "source": [
    "df_closed_tickets[\"closed_at\"] = df_closed_tickets[\"closed_at\"].apply(parse) "
   ]
  },
  {
   "cell_type": "markdown",
   "id": "e3ecb310-8588-498b-b2cd-ae60f22bfb8c",
   "metadata": {
    "canvas": {
     "comments": [],
     "componentType": "CodeCell",
     "copiedOriginId": null,
     "diskcache": false,
     "headerColor": "transparent",
     "id": "f14d3ed1-d64e-4103-a0c8-98a8c452156f",
     "isComponent": false,
     "name": "",
     "parents": []
    }
   },
   "source": [
    "## Define Noise Filter #2"
   ]
  },
  {
   "cell_type": "code",
   "execution_count": 10,
   "id": "ae4c6a5d-2723-4426-b26b-3828068fa13d",
   "metadata": {
    "canvas": {
     "comments": [],
     "componentType": "CodeCell",
     "copiedOriginId": null,
     "diskcache": false,
     "headerColor": "transparent",
     "id": "28619636-56dc-4349-97c1-f68478ca62f6",
     "isComponent": false,
     "name": "",
     "parents": []
    },
    "tags": []
   },
   "outputs": [],
   "source": [
    "dict_types = {\"number\": 'str', \"sys_created_at\": 'datetime64[ns]',\n",
    "              \"closed_at\": \"datetime64[ns]\" , \"assignment_group\": 'str'}\n",
    "df_closed_tickets = df_closed_tickets.astype(dict_types)\n",
    "valid_closing_dates = df_closed_tickets[\"closed_at\"] > df_closed_tickets[\"sys_created_at\"]\n",
    "q2_2016 = (df_closed_tickets.closed_at.dt.quarter == 2) & \\\n",
    "        (df_closed_tickets.closed_at.dt.year == 2016)\n",
    "in_range_good_tickets = q2_2016 & valid_closing_dates"
   ]
  },
  {
   "cell_type": "markdown",
   "id": "5004a887-eab2-47e5-9257-fed444025b1b",
   "metadata": {
    "canvas": {
     "comments": [],
     "componentType": "CodeCell",
     "copiedOriginId": null,
     "diskcache": false,
     "headerColor": "transparent",
     "id": "541ec407-7417-4dc7-b25b-27607e713eb5",
     "isComponent": false,
     "name": "",
     "parents": []
    }
   },
   "source": [
    "## Apply Noise Filter #2"
   ]
  },
  {
   "cell_type": "code",
   "execution_count": 11,
   "id": "a8fb6f56-5fd3-4acd-8f61-717f27f3402f",
   "metadata": {
    "canvas": {
     "comments": [],
     "componentType": "CodeCell",
     "copiedOriginId": null,
     "diskcache": false,
     "headerColor": "transparent",
     "id": "158335f4-0198-4915-998d-77e40e42b703",
     "isComponent": false,
     "name": "",
     "parents": []
    },
    "tags": []
   },
   "outputs": [],
   "source": [
    "\n",
    "df_closed_tickets = df_closed_tickets[in_range_good_tickets].reset_index(drop=True)"
   ]
  },
  {
   "cell_type": "code",
   "execution_count": 12,
   "id": "305b0128-0c73-4a71-bd4a-e8a11e69f97b",
   "metadata": {},
   "outputs": [
    {
     "data": {
      "text/html": [
       "<div>\n",
       "<style scoped>\n",
       "    .dataframe tbody tr th:only-of-type {\n",
       "        vertical-align: middle;\n",
       "    }\n",
       "\n",
       "    .dataframe tbody tr th {\n",
       "        vertical-align: top;\n",
       "    }\n",
       "\n",
       "    .dataframe thead th {\n",
       "        text-align: right;\n",
       "    }\n",
       "</style>\n",
       "<table border=\"1\" class=\"dataframe\">\n",
       "  <thead>\n",
       "    <tr style=\"text-align: right;\">\n",
       "      <th></th>\n",
       "      <th>number</th>\n",
       "      <th>sys_created_at</th>\n",
       "      <th>closed_at</th>\n",
       "      <th>assignment_group</th>\n",
       "    </tr>\n",
       "  </thead>\n",
       "  <tbody>\n",
       "    <tr>\n",
       "      <th>0</th>\n",
       "      <td>INC0000045</td>\n",
       "      <td>2016-02-29 01:23:00</td>\n",
       "      <td>2016-05-03 12:00:00</td>\n",
       "      <td>Group 56</td>\n",
       "    </tr>\n",
       "    <tr>\n",
       "      <th>1</th>\n",
       "      <td>INC0000047</td>\n",
       "      <td>2016-02-29 04:57:00</td>\n",
       "      <td>2016-06-03 10:00:00</td>\n",
       "      <td>Group 24</td>\n",
       "    </tr>\n",
       "    <tr>\n",
       "      <th>2</th>\n",
       "      <td>INC0000062</td>\n",
       "      <td>2016-02-29 07:26:00</td>\n",
       "      <td>2016-05-03 16:00:00</td>\n",
       "      <td>Group 23</td>\n",
       "    </tr>\n",
       "    <tr>\n",
       "      <th>3</th>\n",
       "      <td>INC0000063</td>\n",
       "      <td>2016-02-29 07:17:00</td>\n",
       "      <td>2016-05-03 17:00:00</td>\n",
       "      <td>Group 23</td>\n",
       "    </tr>\n",
       "    <tr>\n",
       "      <th>4</th>\n",
       "      <td>INC0000071</td>\n",
       "      <td>2016-02-29 08:17:00</td>\n",
       "      <td>2016-06-03 11:00:00</td>\n",
       "      <td>Group 24</td>\n",
       "    </tr>\n",
       "    <tr>\n",
       "      <th>...</th>\n",
       "      <td>...</td>\n",
       "      <td>...</td>\n",
       "      <td>...</td>\n",
       "      <td>...</td>\n",
       "    </tr>\n",
       "    <tr>\n",
       "      <th>3802</th>\n",
       "      <td>INC0041652</td>\n",
       "      <td>2016-06-24 08:43:00</td>\n",
       "      <td>2016-06-29 15:00:00</td>\n",
       "      <td>Group 55</td>\n",
       "    </tr>\n",
       "    <tr>\n",
       "      <th>3803</th>\n",
       "      <td>INC0082574</td>\n",
       "      <td>2016-01-11 10:57:00</td>\n",
       "      <td>2016-06-11 12:07:00</td>\n",
       "      <td>Group 3</td>\n",
       "    </tr>\n",
       "    <tr>\n",
       "      <th>3804</th>\n",
       "      <td>INC0082685</td>\n",
       "      <td>2016-01-11 14:37:00</td>\n",
       "      <td>2016-05-12 16:00:00</td>\n",
       "      <td>Group 31</td>\n",
       "    </tr>\n",
       "    <tr>\n",
       "      <th>3805</th>\n",
       "      <td>INC0091855</td>\n",
       "      <td>2016-01-12 10:46:00</td>\n",
       "      <td>2016-06-12 11:00:00</td>\n",
       "      <td>Group 22</td>\n",
       "    </tr>\n",
       "    <tr>\n",
       "      <th>3806</th>\n",
       "      <td>INC0092643</td>\n",
       "      <td>2016-03-12 00:11:00</td>\n",
       "      <td>2016-05-12 11:48:00</td>\n",
       "      <td>Group 15</td>\n",
       "    </tr>\n",
       "  </tbody>\n",
       "</table>\n",
       "<p>3807 rows × 4 columns</p>\n",
       "</div>"
      ],
      "text/plain": [
       "          number      sys_created_at           closed_at assignment_group\n",
       "0     INC0000045 2016-02-29 01:23:00 2016-05-03 12:00:00         Group 56\n",
       "1     INC0000047 2016-02-29 04:57:00 2016-06-03 10:00:00         Group 24\n",
       "2     INC0000062 2016-02-29 07:26:00 2016-05-03 16:00:00         Group 23\n",
       "3     INC0000063 2016-02-29 07:17:00 2016-05-03 17:00:00         Group 23\n",
       "4     INC0000071 2016-02-29 08:17:00 2016-06-03 11:00:00         Group 24\n",
       "...          ...                 ...                 ...              ...\n",
       "3802  INC0041652 2016-06-24 08:43:00 2016-06-29 15:00:00         Group 55\n",
       "3803  INC0082574 2016-01-11 10:57:00 2016-06-11 12:07:00          Group 3\n",
       "3804  INC0082685 2016-01-11 14:37:00 2016-05-12 16:00:00         Group 31\n",
       "3805  INC0091855 2016-01-12 10:46:00 2016-06-12 11:00:00         Group 22\n",
       "3806  INC0092643 2016-03-12 00:11:00 2016-05-12 11:48:00         Group 15\n",
       "\n",
       "[3807 rows x 4 columns]"
      ]
     },
     "execution_count": 12,
     "metadata": {},
     "output_type": "execute_result"
    }
   ],
   "source": [
    "df_closed_tickets"
   ]
  },
  {
   "cell_type": "markdown",
   "id": "5c30dc50-18ce-44d8-8752-819e34f50007",
   "metadata": {},
   "source": [
    "## Relevance Observations\n",
    "1. Only (number', 'sys_created_at', 'closed_at', 'assignment_group') are needed for this analysis\n",
    "2. Only ticket activity in the second quarter of 2016 is needed for this analysis"
   ]
  },
  {
   "cell_type": "markdown",
   "id": "8c6063a4-74ec-4748-872d-8ae24cc8b310",
   "metadata": {
    "canvas": {
     "comments": [],
     "componentType": "CodeCell",
     "copiedOriginId": null,
     "diskcache": false,
     "headerColor": "transparent",
     "id": "8d325bab-fca6-4e2b-9a64-fc29d333e516",
     "isComponent": false,
     "name": "",
     "parents": []
    }
   },
   "source": [
    "## Write Report Data"
   ]
  },
  {
   "cell_type": "code",
   "execution_count": 13,
   "id": "ba91d340-49d4-4598-928b-66bf86e3a50d",
   "metadata": {
    "canvas": {
     "comments": [],
     "componentType": "CodeCell",
     "copiedOriginId": null,
     "diskcache": false,
     "headerColor": "transparent",
     "id": "fe5eb853-3cb5-4f33-aa10-f738c9e6312e",
     "isComponent": false,
     "name": "",
     "parents": []
    },
    "tags": []
   },
   "outputs": [],
   "source": [
    "fp = \"../../kmds/examples/q2_2016_ticket_resolution_data.csv\"\n",
    "df_closed_tickets.to_csv(fp, index=False)"
   ]
  },
  {
   "cell_type": "code",
   "execution_count": 14,
   "id": "ea0446b0-ff3a-4762-b789-e37e564cac32",
   "metadata": {},
   "outputs": [
    {
     "data": {
      "text/plain": [
       "Index(['number', 'sys_created_at', 'closed_at', 'assignment_group'], dtype='object')"
      ]
     },
     "execution_count": 14,
     "metadata": {},
     "output_type": "execute_result"
    }
   ],
   "source": [
    "df_closed_tickets.columns"
   ]
  },
  {
   "cell_type": "code",
   "execution_count": 15,
   "id": "cc77ba81-38b7-4631-9034-6da84457e6a8",
   "metadata": {
    "canvas": {
     "comments": [],
     "componentType": "CodeCell",
     "copiedOriginId": null,
     "diskcache": false,
     "headerColor": "transparent",
     "id": "37da867b-7732-485c-bd6d-a375b163a835",
     "isComponent": false,
     "name": "",
     "parents": []
    },
    "tags": []
   },
   "outputs": [],
   "source": [
    "dtypes_meta = {\"attribute\": [], \"type\": []}\n",
    "for k, v in dict_types.items():\n",
    "    dtypes_meta[\"attribute\"].append(k)\n",
    "    dtypes_meta[\"type\"].append(v)\n",
    "    \n",
    "df_dtypes = pd.DataFrame.from_dict(dtypes_meta)\n",
    "fp_types = \"../../data/ticket_resolution_dtypes.csv\"\n",
    "df_dtypes.to_csv(fp_types, index=False)"
   ]
  },
  {
   "cell_type": "markdown",
   "id": "fd37020d-3eb7-40df-9e4b-bdd9e97ddb03",
   "metadata": {},
   "source": [
    "## Log Exploratory Data Analysis Observations to KMDS Knowledge Base"
   ]
  },
  {
   "cell_type": "code",
   "execution_count": 16,
   "id": "c1d06640-2725-4fd4-b500-cae3dd7cce5d",
   "metadata": {
    "canvas": {
     "comments": [],
     "componentType": "CodeCell",
     "copiedOriginId": null,
     "diskcache": false,
     "headerColor": "transparent",
     "id": "9857ff74-343d-4a06-936f-bb31b9b19f37",
     "isComponent": false,
     "name": "",
     "parents": []
    }
   },
   "outputs": [],
   "source": [
    "from ontology.kmds_ontology import *\n",
    "from tagging.tag_types import ExploratoryTags"
   ]
  },
  {
   "cell_type": "markdown",
   "id": "f80f01d3-946a-4487-97c5-51fe4c055369",
   "metadata": {},
   "source": [
    "## Note:\n",
    "1. In this example the base ontology that comes with the application (onto) is used as the namespace to log all observations into.\n",
    "2. This ontology is saved to a directory on the repo. This can be a URL or another location - adding this functionality is quite straight forward, but for illustration, a directory is used.\n",
    "3. The saved ontology is used in all subsequent sessions by **loading** this ontology and using that as the namespace to log all observations.\n",
    "\n",
    "   If you choose to work through these examples, please take a minute to review how ontologies are saved and loaded."
   ]
  },
  {
   "cell_type": "code",
   "execution_count": 17,
   "id": "024f9d93-de02-45f4-987e-7a23d62d2e9d",
   "metadata": {},
   "outputs": [],
   "source": [
    "kaw = KnowledgeApplicationWorkflow(\"ITSM modelling\", namespace=onto)"
   ]
  },
  {
   "cell_type": "code",
   "execution_count": 18,
   "id": "d67ed1b4-3c58-41de-837e-dba939a35242",
   "metadata": {},
   "outputs": [],
   "source": [
    "exp_obs_list = []\n",
    "observation_count :int = 1\n",
    "e1 = ExploratoryObservation(namespace=onto)\n"
   ]
  },
  {
   "cell_type": "code",
   "execution_count": 19,
   "id": "1324991e-f06a-4145-a2ac-a42ac7caa0c9",
   "metadata": {},
   "outputs": [],
   "source": [
    "from kmds.ontology.intent_types import IntentType"
   ]
  },
  {
   "cell_type": "code",
   "execution_count": 20,
   "id": "60227954-5bb0-4c81-951b-9ca39d54c493",
   "metadata": {},
   "outputs": [],
   "source": [
    "e1.finding = \"Only (number', 'sys_created_at', 'closed_at', 'assignment_group') are needed for this analysis\"\n",
    "e1.finding_sequence = observation_count\n",
    "e1.exploratory_observation_type = ExploratoryTags.RELEVANCE_OBSERVATION.value\n",
    "e1.intent = IntentType.DATA_UNDERSTANDING.value\n",
    "exp_obs_list.append(e1)"
   ]
  },
  {
   "cell_type": "code",
   "execution_count": 21,
   "id": "7545e387-2775-461c-a3da-a359a6b19f40",
   "metadata": {},
   "outputs": [],
   "source": [
    "observation_count += 1\n",
    "e2 = ExploratoryObservation(namespace=onto)\n",
    "e2.finding = \"Only ticket activity in the second quarter of 2016 is needed for this analysis\"\n",
    "e2.finding_sequence = observation_count\n",
    "e2.exploratory_observation_type = ExploratoryTags.RELEVANCE_OBSERVATION.value\n",
    "e2.intent = IntentType.DATA_UNDERSTANDING.value\n",
    "exp_obs_list.append(e2)"
   ]
  },
  {
   "cell_type": "code",
   "execution_count": 22,
   "id": "0664b091-ddd4-4adc-9a9d-c28d5ef14f3e",
   "metadata": {},
   "outputs": [],
   "source": [
    "observation_count += 1\n",
    "e3 = ExploratoryObservation(namespace=onto)\n",
    "e3.finding = \"This use case computes the time to resolve a ticket. This is time that has elapsed between the ticket creation and the ticket\\\n",
    "closed time stamps. Only closed tickets andtickets with valid values for both these timestamps are used.\"\n",
    "e3.finding_sequence = observation_count\n",
    "e3.exploratory_observation_type = ExploratoryTags.DATA_QUALITY_OBSERVATION.value\n",
    "e3.intent = IntentType.DATA_UNDERSTANDING.value\n",
    "exp_obs_list.append(e3)"
   ]
  },
  {
   "cell_type": "code",
   "execution_count": 23,
   "id": "a71ca420-fa86-4e37-942b-421e4f8d91e8",
   "metadata": {},
   "outputs": [],
   "source": [
    "observation_count += 1\n",
    "e4 = ExploratoryObservation(namespace=onto)\n",
    "e4.finding = \"There is inconsistency in the datetime format for both ticket creation and ticket closed times.\\\n",
    "The parse function from the dateutil library is used to parse times into ISO format and then use that form for \\\n",
    "the calculation of the time to resolution\"\n",
    "\n",
    "e4.finding_sequence = observation_count\n",
    "e4.exploratory_observation_type = ExploratoryTags.DATA_QUALITY_OBSERVATION.value\n",
    "e4.intent = IntentType.DATA_UNDERSTANDING.value\n",
    "exp_obs_list.append(e4)"
   ]
  },
  {
   "cell_type": "code",
   "execution_count": 24,
   "id": "821f2c98-48ee-4650-8674-537a42381e61",
   "metadata": {},
   "outputs": [],
   "source": [
    "kaw.has_exploratory_observations = exp_obs_list"
   ]
  },
  {
   "cell_type": "code",
   "execution_count": 25,
   "id": "126e9089-3935-4f9b-a7f8-34a038ba8db1",
   "metadata": {},
   "outputs": [
    {
     "data": {
      "text/plain": [
       "str"
      ]
     },
     "execution_count": 25,
     "metadata": {},
     "output_type": "execute_result"
    }
   ],
   "source": [
    "type(e4.intent)"
   ]
  },
  {
   "cell_type": "code",
   "execution_count": 26,
   "id": "b642899e-d3ab-4d32-9399-40bdbdd2d4f9",
   "metadata": {},
   "outputs": [],
   "source": [
    "from owlready2 import *\n",
    "from utils.path_utils import get_package_kb_path\n",
    "KNOWLEDGE_BASE = \"example_analytics_kb_app_workflow.xml\"\n",
    "storage_path = \"../../kmds/examples/\" + KNOWLEDGE_BASE\n",
    "onto.save(file=storage_path, format=\"rdfxml\")"
   ]
  }
 ],
 "metadata": {
  "canvas": {
   "colorPalette": [
    "inherit",
    "inherit",
    "inherit",
    "inherit",
    "inherit",
    "inherit",
    "inherit",
    "inherit",
    "inherit",
    "inherit"
   ],
   "parameters": [],
   "version": "1.0"
  },
  "kernelspec": {
   "display_name": "Python 3 (ipykernel)",
   "language": "python",
   "name": "python3"
  },
  "language_info": {
   "codemirror_mode": {
    "name": "ipython",
    "version": 3
   },
   "file_extension": ".py",
   "mimetype": "text/x-python",
   "name": "python",
   "nbconvert_exporter": "python",
   "pygments_lexer": "ipython3",
   "version": "3.10.13"
  }
 },
 "nbformat": 4,
 "nbformat_minor": 5
}
