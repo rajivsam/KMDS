{
 "cells": [
  {
   "cell_type": "markdown",
   "id": "decaf19e-b31d-4032-b8b6-d0e7984c77fd",
   "metadata": {},
   "source": [
    "## Overview\n",
    "The purpose of this notebook is to set up the data representations needed for analyzing the resolution time characteristics. \n",
    "The characteristics of the resolution time are illustrated through two plots:\n",
    "1. A violin plot that illustrates the distribution and values of resolution time. This plot helps us identify effects such as clustering of resolution times and outliers. It summarizes the resolution activity for the help desk during the period Q2-2016.\n",
    "2. A cumulative distribution function that provides a probablistic view of the resolution time at the help desk.It helps administrators set SLA's. This can tell the help desk that x % of the tickets will be resolved in y hours. This can be done for every group.\n",
    "\n",
    "\n",
    "There is additional representation that provides the number of help desk resolved by each group in the support desk. This is done separately.The recipe to set up the data representation is straight forward. It involves setting up of the resolution time attribute. This is a feature engineering activity."
   ]
  },
  {
   "cell_type": "markdown",
   "id": "32757846-d4ab-40f1-896c-18b058af58a8",
   "metadata": {},
   "source": [
    "## Read the data"
   ]
  },
  {
   "cell_type": "code",
   "execution_count": 1,
   "id": "b68bda5e",
   "metadata": {
    "canvas": {
     "comments": [],
     "componentType": "CodeCell",
     "copiedOriginId": null,
     "diskcache": false,
     "headerColor": "transparent",
     "id": "655cfed2-4fb0-420c-bf0c-5f93d4513c9c",
     "isComponent": true,
     "name": "Read_Data",
     "parents": []
    },
    "tags": []
   },
   "outputs": [],
   "source": [
    "import pandas as pd\n",
    "fp = \"../../kmds/examples/q2_2016_ticket_resolution_data.csv\"\n",
    "df = pd.read_csv(fp)\n"
   ]
  },
  {
   "cell_type": "markdown",
   "id": "e3eae51e-b98b-4283-89fb-db6cb45ddb30",
   "metadata": {},
   "source": [
    "## Verify Quality"
   ]
  },
  {
   "cell_type": "code",
   "execution_count": 2,
   "id": "b350c139-6c6e-4b28-8477-e6f2ccb97028",
   "metadata": {},
   "outputs": [
    {
     "name": "stdout",
     "output_type": "stream",
     "text": [
      "<class 'pandas.core.frame.DataFrame'>\n",
      "RangeIndex: 3807 entries, 0 to 3806\n",
      "Data columns (total 4 columns):\n",
      " #   Column            Non-Null Count  Dtype \n",
      "---  ------            --------------  ----- \n",
      " 0   number            3807 non-null   object\n",
      " 1   sys_created_at    3807 non-null   object\n",
      " 2   closed_at         3807 non-null   object\n",
      " 3   assignment_group  3380 non-null   object\n",
      "dtypes: object(4)\n",
      "memory usage: 119.1+ KB\n"
     ]
    }
   ],
   "source": [
    "df.info()"
   ]
  },
  {
   "cell_type": "markdown",
   "id": "ddfd8306-1313-44a0-8f25-9fcb43adad0b",
   "metadata": {},
   "source": [
    "## Define the data types"
   ]
  },
  {
   "cell_type": "code",
   "execution_count": 3,
   "id": "e94cbc60-ea63-43cc-a2c8-9e8f504b111a",
   "metadata": {
    "canvas": {
     "comments": [],
     "componentType": "CodeCell",
     "copiedOriginId": null,
     "diskcache": false,
     "headerColor": "transparent",
     "id": "53b1006c-c0f8-4d4c-8220-8e024fbe4dc7",
     "isComponent": true,
     "name": "Assign_Data_Types",
     "parents": [
      {
       "id": "655cfed2-4fb0-420c-bf0c-5f93d4513c9c",
       "name": "Read_Data"
      }
     ]
    },
    "tags": []
   },
   "outputs": [],
   "source": [
    "\n",
    "fpdtypes = \"../../kmds/examples/ticket_resolution_dtypes.csv\"\n",
    "dtypes_df = pd.read_csv(fpdtypes)\n",
    "dtypes_dict = {row[\"attribute\"]: row[\"type\"] for index, row in dtypes_df.iterrows()}\n",
    "df = df.astype(dtypes_dict)\n",
    "df = df.reset_index()"
   ]
  },
  {
   "cell_type": "markdown",
   "id": "04002899-a0cc-4cdd-a466-36d2e51866af",
   "metadata": {},
   "source": [
    "## Feature Engineering\n",
    "Define the resolution time attribute as shown below"
   ]
  },
  {
   "cell_type": "code",
   "execution_count": 4,
   "id": "b5c27595-9618-488e-ac9b-7d811231c7fb",
   "metadata": {
    "canvas": {
     "comments": [],
     "componentType": "CodeCell",
     "copiedOriginId": null,
     "diskcache": false,
     "headerColor": "transparent",
     "id": "ab966c81-6684-422d-81b6-182147c78cdb",
     "isComponent": true,
     "name": "Define_Resolution_Time",
     "parents": [
      {
       "id": "53b1006c-c0f8-4d4c-8220-8e024fbe4dc7",
       "name": "Assign_Data_Types"
      }
     ]
    },
    "tags": []
   },
   "outputs": [],
   "source": [
    "df[\"resolution_time\"] = df[\"closed_at\"] - df[\"sys_created_at\"]\n",
    "df[\"resolution_time\"] = df[\"resolution_time\"].apply(lambda x: x.total_seconds()/3600)"
   ]
  },
  {
   "cell_type": "code",
   "execution_count": 5,
   "id": "6d4a9bdb-f64d-4627-9dd6-6f05ea8ec28a",
   "metadata": {
    "canvas": {
     "comments": [],
     "componentType": "CodeCell",
     "copiedOriginId": null,
     "diskcache": false,
     "headerColor": "transparent",
     "id": "adf0eb69-ed31-48dd-b393-aa0a7611f069",
     "isComponent": true,
     "name": "Describe_Resolution_Time",
     "parents": [
      {
       "id": "ab966c81-6684-422d-81b6-182147c78cdb",
       "name": "Define_Resolution_Time"
      }
     ]
    },
    "tags": []
   },
   "outputs": [
    {
     "data": {
      "text/plain": [
       "0       1546.616667\n",
       "1       2285.050000\n",
       "2       1544.566667\n",
       "3       1545.716667\n",
       "4       2282.716667\n",
       "           ...     \n",
       "3802     126.283333\n",
       "3803    3649.166667\n",
       "3804    2929.383333\n",
       "3805    3648.233333\n",
       "3806    1475.616667\n",
       "Name: resolution_time, Length: 3807, dtype: float64"
      ]
     },
     "execution_count": 5,
     "metadata": {},
     "output_type": "execute_result"
    }
   ],
   "source": [
    "df[\"resolution_time\"]"
   ]
  },
  {
   "cell_type": "markdown",
   "id": "5ee689e4-2858-49bf-b7b3-42ad9c41e4ad",
   "metadata": {},
   "source": [
    "## Write the representation to disk"
   ]
  },
  {
   "cell_type": "code",
   "execution_count": 6,
   "id": "74e11aca-a8da-4da5-98c9-1230a7d6c40f",
   "metadata": {
    "canvas": {
     "comments": [],
     "componentType": "CodeCell",
     "copiedOriginId": null,
     "diskcache": false,
     "headerColor": "transparent",
     "id": "8f5e6681-2af3-4b80-87a3-0b82ff2ad03b",
     "isComponent": true,
     "name": "Save_Resolution_Plot_Data",
     "parents": [
      {
       "id": "adf0eb69-ed31-48dd-b393-aa0a7611f069",
       "name": "Describe_Resolution_Time"
      }
     ]
    },
    "tags": []
   },
   "outputs": [],
   "source": [
    "fp_q2_2016 = \"../../kmds/examples/example_analytics_post_data_rep1_data.csv\"\n",
    "df.to_csv(fp_q2_2016, index=False)\n"
   ]
  },
  {
   "cell_type": "markdown",
   "id": "032452f9-8fd1-49dd-aab2-495f0ec1b6f1",
   "metadata": {},
   "source": [
    "## Log Data Representation Observations to KMDS Knowledge Base"
   ]
  },
  {
   "cell_type": "code",
   "execution_count": 7,
   "id": "abc76ba0-317e-4fe6-bf25-5d433a326446",
   "metadata": {
    "canvas": {
     "comments": [],
     "componentType": "CodeCell",
     "copiedOriginId": null,
     "diskcache": false,
     "headerColor": "transparent",
     "id": "40e2a9aa-62a8-4f26-a2cb-c58ae9b16f47",
     "isComponent": false,
     "name": "",
     "parents": []
    }
   },
   "outputs": [],
   "source": [
    "from tagging.tag_types import DataRepresentationTags\n",
    "from owlready2 import *\n",
    "from utils.load_utils import *\n",
    "#from utils.path_utils import *\n",
    "KNOWLEDGE_BASE = \"../../kmds/examples/example_analytics_kb_app_workflow.xml\""
   ]
  },
  {
   "cell_type": "code",
   "execution_count": 8,
   "id": "12c5ecbc-7df4-4a2e-8cfb-378db45c4b9e",
   "metadata": {},
   "outputs": [],
   "source": [
    "onto2 = load_kb(KNOWLEDGE_BASE)"
   ]
  },
  {
   "cell_type": "code",
   "execution_count": 9,
   "id": "bba62e2a-ac90-4f03-908b-2340244cf4e2",
   "metadata": {},
   "outputs": [],
   "source": [
    "with onto2:\n",
    "    insts = Workflow.instances()\n",
    "the_workflow_instance = insts[0]"
   ]
  },
  {
   "cell_type": "code",
   "execution_count": 10,
   "id": "26de8c2e-5d08-4f0c-b18f-d442eb63b09e",
   "metadata": {},
   "outputs": [
    {
     "data": {
      "text/plain": [
       "[example_analytics_kb_app_workflow.xml.ITSM modelling]"
      ]
     },
     "execution_count": 10,
     "metadata": {},
     "output_type": "execute_result"
    }
   ],
   "source": [
    "insts"
   ]
  },
  {
   "cell_type": "code",
   "execution_count": 11,
   "id": "fa974b15-366d-4af9-9494-c75aebfdb56c",
   "metadata": {},
   "outputs": [],
   "source": [
    "dr_obs_list = []\n",
    "observation_count = 1\n",
    "\n",
    "dr1 = DataRepresentationObservation(namespace=onto2)\n",
    "dr1.finding = \"The resolution time attribute is defined. It is calculated as the time difference between closing and creation\\\n",
    "times of the ticket.\"\n",
    "dr1.finding_sequence = observation_count\n",
    "dr1.data_representation_observation_type = DataRepresentationTags.FEATURE_ENGG_OBSERVATION.value\n",
    "dr_obs_list.append(dr1)\n",
    "the_workflow_instance.has_data_representation_observations = dr_obs_list\n",
    "\n",
    "onto2.save(file=KNOWLEDGE_BASE, format=\"rdfxml\")"
   ]
  },
  {
   "cell_type": "code",
   "execution_count": null,
   "id": "67202d0c-3b11-400f-8d4d-76380ab24291",
   "metadata": {},
   "outputs": [],
   "source": []
  }
 ],
 "metadata": {
  "canvas": {
   "colorPalette": [
    "inherit",
    "inherit",
    "inherit",
    "inherit",
    "inherit",
    "inherit",
    "inherit",
    "inherit",
    "inherit",
    "inherit"
   ],
   "parameters": [],
   "version": "1.0"
  },
  "kernelspec": {
   "display_name": "Python 3 (ipykernel)",
   "language": "python",
   "name": "python3"
  },
  "language_info": {
   "codemirror_mode": {
    "name": "ipython",
    "version": 3
   },
   "file_extension": ".py",
   "mimetype": "text/x-python",
   "name": "python",
   "nbconvert_exporter": "python",
   "pygments_lexer": "ipython3",
   "version": "3.11.7"
  }
 },
 "nbformat": 4,
 "nbformat_minor": 5
}
