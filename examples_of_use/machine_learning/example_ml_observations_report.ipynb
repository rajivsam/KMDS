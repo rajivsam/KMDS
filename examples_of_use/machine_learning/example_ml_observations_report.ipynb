{
 "cells": [
  {
   "cell_type": "markdown",
   "id": "d08c018c-9847-458a-a3d9-3544aad892f1",
   "metadata": {},
   "source": [
    "## Specify the Knowledge Base to use"
   ]
  },
  {
   "cell_type": "code",
   "execution_count": 1,
   "id": "2a62b7a8-253f-4cce-96f1-97ee444a0d20",
   "metadata": {},
   "outputs": [],
   "source": [
    "! pip install ../../dist/*.whl --quiet"
   ]
  },
  {
   "cell_type": "code",
   "execution_count": 2,
   "id": "a43dcda6-5670-4ff8-8713-68dfad4fc06d",
   "metadata": {},
   "outputs": [],
   "source": [
    "import kmds\n",
    "from tagging.tag_types import DataRepresentationTags\n",
    "from owlready2 import *\n",
    "from kmds.utils.load_utils import *\n",
    "KNOWLEDGE_BASE = \"example_ml_kb_exp_workflow.xml\""
   ]
  },
  {
   "cell_type": "markdown",
   "id": "e3025591-434f-4cef-959c-4546b1b2e48c",
   "metadata": {},
   "source": [
    "## Load the Exploratory Observations"
   ]
  },
  {
   "cell_type": "code",
   "execution_count": 3,
   "id": "eb288f83-ac20-45f5-89e1-c5bea85b0fba",
   "metadata": {},
   "outputs": [
    {
     "data": {
      "text/html": [
       "<div>\n",
       "<style scoped>\n",
       "    .dataframe tbody tr th:only-of-type {\n",
       "        vertical-align: middle;\n",
       "    }\n",
       "\n",
       "    .dataframe tbody tr th {\n",
       "        vertical-align: top;\n",
       "    }\n",
       "\n",
       "    .dataframe thead th {\n",
       "        text-align: right;\n",
       "    }\n",
       "</style>\n",
       "<table border=\"1\" class=\"dataframe\">\n",
       "  <thead>\n",
       "    <tr style=\"text-align: right;\">\n",
       "      <th></th>\n",
       "      <th>obs_type</th>\n",
       "      <th>finding</th>\n",
       "      <th>finding_seq</th>\n",
       "    </tr>\n",
       "  </thead>\n",
       "  <tbody>\n",
       "    <tr>\n",
       "      <th>0</th>\n",
       "      <td>Data Quality Observation</td>\n",
       "      <td>Some products are not valid products. For exam...</td>\n",
       "      <td>5</td>\n",
       "    </tr>\n",
       "    <tr>\n",
       "      <th>1</th>\n",
       "      <td>Data Quality Observation</td>\n",
       "      <td>Customer ID, Description and Stock Code have n...</td>\n",
       "      <td>2</td>\n",
       "    </tr>\n",
       "    <tr>\n",
       "      <th>2</th>\n",
       "      <td>Data Quality Observation</td>\n",
       "      <td>Some Quantities are not numbers</td>\n",
       "      <td>3</td>\n",
       "    </tr>\n",
       "    <tr>\n",
       "      <th>3</th>\n",
       "      <td>Data Quality Observation</td>\n",
       "      <td>Quantity, Price and Customer ID attributes hav...</td>\n",
       "      <td>1</td>\n",
       "    </tr>\n",
       "    <tr>\n",
       "      <th>4</th>\n",
       "      <td>Data Quality Observation</td>\n",
       "      <td>Some Prices are not numbers, these correspond ...</td>\n",
       "      <td>4</td>\n",
       "    </tr>\n",
       "    <tr>\n",
       "      <th>5</th>\n",
       "      <td>Relevance Observation</td>\n",
       "      <td>For this task, the period considered is first ...</td>\n",
       "      <td>6</td>\n",
       "    </tr>\n",
       "  </tbody>\n",
       "</table>\n",
       "</div>"
      ],
      "text/plain": [
       "                   obs_type  \\\n",
       "0  Data Quality Observation   \n",
       "1  Data Quality Observation   \n",
       "2  Data Quality Observation   \n",
       "3  Data Quality Observation   \n",
       "4  Data Quality Observation   \n",
       "5     Relevance Observation   \n",
       "\n",
       "                                             finding  finding_seq  \n",
       "0  Some products are not valid products. For exam...            5  \n",
       "1  Customer ID, Description and Stock Code have n...            2  \n",
       "2                    Some Quantities are not numbers            3  \n",
       "3  Quantity, Price and Customer ID attributes hav...            1  \n",
       "4  Some Prices are not numbers, these correspond ...            4  \n",
       "5  For this task, the period considered is first ...            6  "
      ]
     },
     "execution_count": 3,
     "metadata": {},
     "output_type": "execute_result"
    }
   ],
   "source": [
    "load_exp_observations(KNOWLEDGE_BASE)"
   ]
  },
  {
   "cell_type": "markdown",
   "id": "99584c8a-155a-4f80-8e95-82db262b9d0d",
   "metadata": {},
   "source": [
    "## Load the Data Representation Observations"
   ]
  },
  {
   "cell_type": "code",
   "execution_count": 4,
   "id": "d4483dba-342d-4ed0-ae3f-a62a5975c659",
   "metadata": {},
   "outputs": [
    {
     "data": {
      "text/html": [
       "<div>\n",
       "<style scoped>\n",
       "    .dataframe tbody tr th:only-of-type {\n",
       "        vertical-align: middle;\n",
       "    }\n",
       "\n",
       "    .dataframe tbody tr th {\n",
       "        vertical-align: top;\n",
       "    }\n",
       "\n",
       "    .dataframe thead th {\n",
       "        text-align: right;\n",
       "    }\n",
       "</style>\n",
       "<table border=\"1\" class=\"dataframe\">\n",
       "  <thead>\n",
       "    <tr style=\"text-align: right;\">\n",
       "      <th></th>\n",
       "      <th>obs_type</th>\n",
       "      <th>finding</th>\n",
       "      <th>finding_seq</th>\n",
       "    </tr>\n",
       "  </thead>\n",
       "  <tbody>\n",
       "    <tr>\n",
       "      <th>0</th>\n",
       "      <td>Data Transformation Observation</td>\n",
       "      <td>The daily sales data for the store inventory f...</td>\n",
       "      <td>1</td>\n",
       "    </tr>\n",
       "  </tbody>\n",
       "</table>\n",
       "</div>"
      ],
      "text/plain": [
       "                          obs_type  \\\n",
       "0  Data Transformation Observation   \n",
       "\n",
       "                                             finding  finding_seq  \n",
       "0  The daily sales data for the store inventory f...            1  "
      ]
     },
     "execution_count": 4,
     "metadata": {},
     "output_type": "execute_result"
    }
   ],
   "source": [
    "load_data_rep_observations(KNOWLEDGE_BASE)"
   ]
  },
  {
   "cell_type": "markdown",
   "id": "985d674d-42b8-48d4-92b0-9b40e0b47dc0",
   "metadata": {},
   "source": [
    "## Load the Modelling Choice Observations"
   ]
  },
  {
   "cell_type": "code",
   "execution_count": 5,
   "id": "beabd768-9da7-48b4-bc31-66c287ae5616",
   "metadata": {},
   "outputs": [
    {
     "data": {
      "text/html": [
       "<div>\n",
       "<style scoped>\n",
       "    .dataframe tbody tr th:only-of-type {\n",
       "        vertical-align: middle;\n",
       "    }\n",
       "\n",
       "    .dataframe tbody tr th {\n",
       "        vertical-align: top;\n",
       "    }\n",
       "\n",
       "    .dataframe thead th {\n",
       "        text-align: right;\n",
       "    }\n",
       "</style>\n",
       "<table border=\"1\" class=\"dataframe\">\n",
       "  <thead>\n",
       "    <tr style=\"text-align: right;\">\n",
       "      <th></th>\n",
       "      <th>obs_type</th>\n",
       "      <th>finding</th>\n",
       "      <th>finding_seq</th>\n",
       "    </tr>\n",
       "  </thead>\n",
       "  <tbody>\n",
       "    <tr>\n",
       "      <th>0</th>\n",
       "      <td>Modelling Choice Observation</td>\n",
       "      <td>contribution of products towards quaterly reve...</td>\n",
       "      <td>1</td>\n",
       "    </tr>\n",
       "  </tbody>\n",
       "</table>\n",
       "</div>"
      ],
      "text/plain": [
       "                       obs_type  \\\n",
       "0  Modelling Choice Observation   \n",
       "\n",
       "                                             finding  finding_seq  \n",
       "0  contribution of products towards quaterly reve...            1  "
      ]
     },
     "execution_count": 5,
     "metadata": {},
     "output_type": "execute_result"
    }
   ],
   "source": [
    "load_modelling_choice_observations(KNOWLEDGE_BASE)"
   ]
  },
  {
   "cell_type": "markdown",
   "id": "e87ff1b4-6297-4125-b08d-405fef71bf8f",
   "metadata": {},
   "source": [
    "## Load the Model Selection Observations"
   ]
  },
  {
   "cell_type": "code",
   "execution_count": 6,
   "id": "13d04df7-bda9-4ba9-b9d1-a18667dae02a",
   "metadata": {},
   "outputs": [
    {
     "data": {
      "text/html": [
       "<div>\n",
       "<style scoped>\n",
       "    .dataframe tbody tr th:only-of-type {\n",
       "        vertical-align: middle;\n",
       "    }\n",
       "\n",
       "    .dataframe tbody tr th {\n",
       "        vertical-align: top;\n",
       "    }\n",
       "\n",
       "    .dataframe thead th {\n",
       "        text-align: right;\n",
       "    }\n",
       "</style>\n",
       "<table border=\"1\" class=\"dataframe\">\n",
       "  <thead>\n",
       "    <tr style=\"text-align: right;\">\n",
       "      <th></th>\n",
       "      <th>obs_type</th>\n",
       "      <th>finding</th>\n",
       "      <th>finding_seq</th>\n",
       "    </tr>\n",
       "  </thead>\n",
       "  <tbody>\n",
       "    <tr>\n",
       "      <th>0</th>\n",
       "      <td>Model Selection Statement</td>\n",
       "      <td>For this iteration, PCA was the only modelling...</td>\n",
       "      <td>1</td>\n",
       "    </tr>\n",
       "  </tbody>\n",
       "</table>\n",
       "</div>"
      ],
      "text/plain": [
       "                    obs_type  \\\n",
       "0  Model Selection Statement   \n",
       "\n",
       "                                             finding  finding_seq  \n",
       "0  For this iteration, PCA was the only modelling...            1  "
      ]
     },
     "execution_count": 6,
     "metadata": {},
     "output_type": "execute_result"
    }
   ],
   "source": [
    "load_model_selection_observations(KNOWLEDGE_BASE)"
   ]
  },
  {
   "cell_type": "code",
   "execution_count": null,
   "id": "7ce17f0c-17aa-4c69-8512-d29fa75eff32",
   "metadata": {},
   "outputs": [],
   "source": []
  }
 ],
 "metadata": {
  "kernelspec": {
   "display_name": "Python 3 (ipykernel)",
   "language": "python",
   "name": "python3"
  },
  "language_info": {
   "codemirror_mode": {
    "name": "ipython",
    "version": 3
   },
   "file_extension": ".py",
   "mimetype": "text/x-python",
   "name": "python",
   "nbconvert_exporter": "python",
   "pygments_lexer": "ipython3",
   "version": "3.11.7"
  }
 },
 "nbformat": 4,
 "nbformat_minor": 5
}
