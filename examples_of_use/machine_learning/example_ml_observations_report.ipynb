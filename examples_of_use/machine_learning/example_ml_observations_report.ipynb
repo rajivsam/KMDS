{
 "cells": [
  {
   "cell_type": "markdown",
   "id": "d08c018c-9847-458a-a3d9-3544aad892f1",
   "metadata": {},
   "source": [
    "## Specify the Knowledge Base to use"
   ]
  },
  {
   "cell_type": "code",
   "execution_count": 8,
   "id": "2a62b7a8-253f-4cce-96f1-97ee444a0d20",
   "metadata": {},
   "outputs": [
    {
     "name": "stdout",
     "output_type": "stream",
     "text": [
      "Processing /Users/rajivsambasivan/Programming/kmds/dist/kmds-0.2.2-py3-none-any.whl\n",
      "Collecting Flask==3.0.2 (from kmds==0.2.2)\n",
      "  Downloading flask-3.0.2-py3-none-any.whl.metadata (3.6 kB)\n",
      "Requirement already satisfied: PyYAML==6.0.1 in /Users/rajivsambasivan/opt/anaconda3/envs/kmds/lib/python3.11/site-packages (from kmds==0.2.2) (6.0.1)\n",
      "Requirement already satisfied: owlready2==0.45 in /Users/rajivsambasivan/opt/anaconda3/envs/kmds/lib/python3.11/site-packages (from kmds==0.2.2) (0.45)\n",
      "Requirement already satisfied: pytest==8.0.0 in /Users/rajivsambasivan/opt/anaconda3/envs/kmds/lib/python3.11/site-packages (from kmds==0.2.2) (8.0.0)\n",
      "Requirement already satisfied: rdflib==7.0.0 in /Users/rajivsambasivan/opt/anaconda3/envs/kmds/lib/python3.11/site-packages (from kmds==0.2.2) (7.0.0)\n",
      "Requirement already satisfied: Werkzeug>=3.0.0 in /Users/rajivsambasivan/opt/anaconda3/envs/kmds/lib/python3.11/site-packages (from Flask==3.0.2->kmds==0.2.2) (3.0.1)\n",
      "Requirement already satisfied: Jinja2>=3.1.2 in /Users/rajivsambasivan/opt/anaconda3/envs/kmds/lib/python3.11/site-packages (from Flask==3.0.2->kmds==0.2.2) (3.1.3)\n",
      "Requirement already satisfied: itsdangerous>=2.1.2 in /Users/rajivsambasivan/opt/anaconda3/envs/kmds/lib/python3.11/site-packages (from Flask==3.0.2->kmds==0.2.2) (2.1.2)\n",
      "Requirement already satisfied: click>=8.1.3 in /Users/rajivsambasivan/opt/anaconda3/envs/kmds/lib/python3.11/site-packages (from Flask==3.0.2->kmds==0.2.2) (8.1.7)\n",
      "Requirement already satisfied: blinker>=1.6.2 in /Users/rajivsambasivan/opt/anaconda3/envs/kmds/lib/python3.11/site-packages (from Flask==3.0.2->kmds==0.2.2) (1.7.0)\n",
      "Requirement already satisfied: iniconfig in /Users/rajivsambasivan/opt/anaconda3/envs/kmds/lib/python3.11/site-packages (from pytest==8.0.0->kmds==0.2.2) (2.0.0)\n",
      "Requirement already satisfied: packaging in /Users/rajivsambasivan/opt/anaconda3/envs/kmds/lib/python3.11/site-packages (from pytest==8.0.0->kmds==0.2.2) (23.2)\n",
      "Requirement already satisfied: pluggy<2.0,>=1.3.0 in /Users/rajivsambasivan/opt/anaconda3/envs/kmds/lib/python3.11/site-packages (from pytest==8.0.0->kmds==0.2.2) (1.4.0)\n",
      "Requirement already satisfied: isodate<0.7.0,>=0.6.0 in /Users/rajivsambasivan/opt/anaconda3/envs/kmds/lib/python3.11/site-packages (from rdflib==7.0.0->kmds==0.2.2) (0.6.1)\n",
      "Requirement already satisfied: pyparsing<4,>=2.1.0 in /Users/rajivsambasivan/opt/anaconda3/envs/kmds/lib/python3.11/site-packages (from rdflib==7.0.0->kmds==0.2.2) (3.1.1)\n",
      "Requirement already satisfied: six in /Users/rajivsambasivan/opt/anaconda3/envs/kmds/lib/python3.11/site-packages (from isodate<0.7.0,>=0.6.0->rdflib==7.0.0->kmds==0.2.2) (1.16.0)\n",
      "Requirement already satisfied: MarkupSafe>=2.0 in /Users/rajivsambasivan/opt/anaconda3/envs/kmds/lib/python3.11/site-packages (from Jinja2>=3.1.2->Flask==3.0.2->kmds==0.2.2) (2.1.4)\n",
      "Downloading flask-3.0.2-py3-none-any.whl (101 kB)\n",
      "\u001b[2K   \u001b[38;2;114;156;31m━━━━━━━━━━━━━━━━━━━━━━━━━━━━━━━━━━━━━━━━\u001b[0m \u001b[32m101.3/101.3 kB\u001b[0m \u001b[31m3.7 MB/s\u001b[0m eta \u001b[36m0:00:00\u001b[0m\n",
      "\u001b[?25hInstalling collected packages: Flask, kmds\n",
      "  Attempting uninstall: Flask\n",
      "    Found existing installation: Flask 3.0.1\n",
      "    Uninstalling Flask-3.0.1:\n",
      "      Successfully uninstalled Flask-3.0.1\n",
      "Successfully installed Flask-3.0.2 kmds-0.2.2\n"
     ]
    }
   ],
   "source": [
    "! pip install ../../dist/*.whl"
   ]
  },
  {
   "cell_type": "code",
   "execution_count": 12,
   "id": "a43dcda6-5670-4ff8-8713-68dfad4fc06d",
   "metadata": {},
   "outputs": [],
   "source": [
    "import kmds\n",
    "from tagging.tag_types import DataRepresentationTags\n",
    "from owlready2 import *\n",
    "from kmds.utils.load_utils import *\n",
    "KNOWLEDGE_BASE = \"example_ml_kb_exp_workflow.xml\""
   ]
  },
  {
   "cell_type": "markdown",
   "id": "e3025591-434f-4cef-959c-4546b1b2e48c",
   "metadata": {},
   "source": [
    "## Load the Exploratory Observations"
   ]
  },
  {
   "cell_type": "code",
   "execution_count": 14,
   "id": "eb288f83-ac20-45f5-89e1-c5bea85b0fba",
   "metadata": {},
   "outputs": [
    {
     "data": {
      "text/html": [
       "<div>\n",
       "<style scoped>\n",
       "    .dataframe tbody tr th:only-of-type {\n",
       "        vertical-align: middle;\n",
       "    }\n",
       "\n",
       "    .dataframe tbody tr th {\n",
       "        vertical-align: top;\n",
       "    }\n",
       "\n",
       "    .dataframe thead th {\n",
       "        text-align: right;\n",
       "    }\n",
       "</style>\n",
       "<table border=\"1\" class=\"dataframe\">\n",
       "  <thead>\n",
       "    <tr style=\"text-align: right;\">\n",
       "      <th></th>\n",
       "      <th>obs_type</th>\n",
       "      <th>finding</th>\n",
       "      <th>finding_seq</th>\n",
       "    </tr>\n",
       "  </thead>\n",
       "  <tbody>\n",
       "    <tr>\n",
       "      <th>0</th>\n",
       "      <td>Relevance Observation</td>\n",
       "      <td>For this task, the period considered is first ...</td>\n",
       "      <td>6</td>\n",
       "    </tr>\n",
       "    <tr>\n",
       "      <th>1</th>\n",
       "      <td>Data Quality Observation</td>\n",
       "      <td>Some Quantities are not numbers</td>\n",
       "      <td>3</td>\n",
       "    </tr>\n",
       "    <tr>\n",
       "      <th>2</th>\n",
       "      <td>Data Quality Observation</td>\n",
       "      <td>Some products are not valid products. For exam...</td>\n",
       "      <td>5</td>\n",
       "    </tr>\n",
       "    <tr>\n",
       "      <th>3</th>\n",
       "      <td>Data Quality Observation</td>\n",
       "      <td>Customer ID, Description and Stock Code have n...</td>\n",
       "      <td>2</td>\n",
       "    </tr>\n",
       "    <tr>\n",
       "      <th>4</th>\n",
       "      <td>Data Quality Observation</td>\n",
       "      <td>Some Prices are not numbers, these correspond ...</td>\n",
       "      <td>4</td>\n",
       "    </tr>\n",
       "    <tr>\n",
       "      <th>5</th>\n",
       "      <td>Data Quality Observation</td>\n",
       "      <td>Quantity, Price and Customer ID attributes hav...</td>\n",
       "      <td>1</td>\n",
       "    </tr>\n",
       "  </tbody>\n",
       "</table>\n",
       "</div>"
      ],
      "text/plain": [
       "                   obs_type  \\\n",
       "0     Relevance Observation   \n",
       "1  Data Quality Observation   \n",
       "2  Data Quality Observation   \n",
       "3  Data Quality Observation   \n",
       "4  Data Quality Observation   \n",
       "5  Data Quality Observation   \n",
       "\n",
       "                                             finding  finding_seq  \n",
       "0  For this task, the period considered is first ...            6  \n",
       "1                    Some Quantities are not numbers            3  \n",
       "2  Some products are not valid products. For exam...            5  \n",
       "3  Customer ID, Description and Stock Code have n...            2  \n",
       "4  Some Prices are not numbers, these correspond ...            4  \n",
       "5  Quantity, Price and Customer ID attributes hav...            1  "
      ]
     },
     "execution_count": 14,
     "metadata": {},
     "output_type": "execute_result"
    }
   ],
   "source": [
    "load_exp_observations(KNOWLEDGE_BASE)"
   ]
  },
  {
   "cell_type": "markdown",
   "id": "99584c8a-155a-4f80-8e95-82db262b9d0d",
   "metadata": {},
   "source": [
    "## Load the Data Representation Observations"
   ]
  },
  {
   "cell_type": "code",
   "execution_count": 15,
   "id": "d4483dba-342d-4ed0-ae3f-a62a5975c659",
   "metadata": {},
   "outputs": [
    {
     "data": {
      "text/html": [
       "<div>\n",
       "<style scoped>\n",
       "    .dataframe tbody tr th:only-of-type {\n",
       "        vertical-align: middle;\n",
       "    }\n",
       "\n",
       "    .dataframe tbody tr th {\n",
       "        vertical-align: top;\n",
       "    }\n",
       "\n",
       "    .dataframe thead th {\n",
       "        text-align: right;\n",
       "    }\n",
       "</style>\n",
       "<table border=\"1\" class=\"dataframe\">\n",
       "  <thead>\n",
       "    <tr style=\"text-align: right;\">\n",
       "      <th></th>\n",
       "      <th>obs_type</th>\n",
       "      <th>finding</th>\n",
       "      <th>finding_seq</th>\n",
       "    </tr>\n",
       "  </thead>\n",
       "  <tbody>\n",
       "    <tr>\n",
       "      <th>0</th>\n",
       "      <td>Data Transformation Observation</td>\n",
       "      <td>The daily sales data for the store inventory f...</td>\n",
       "      <td>1</td>\n",
       "    </tr>\n",
       "  </tbody>\n",
       "</table>\n",
       "</div>"
      ],
      "text/plain": [
       "                          obs_type  \\\n",
       "0  Data Transformation Observation   \n",
       "\n",
       "                                             finding  finding_seq  \n",
       "0  The daily sales data for the store inventory f...            1  "
      ]
     },
     "execution_count": 15,
     "metadata": {},
     "output_type": "execute_result"
    }
   ],
   "source": [
    "load_data_rep_observations(KNOWLEDGE_BASE)"
   ]
  },
  {
   "cell_type": "markdown",
   "id": "985d674d-42b8-48d4-92b0-9b40e0b47dc0",
   "metadata": {},
   "source": [
    "## Load the Modelling Choice Observations"
   ]
  },
  {
   "cell_type": "code",
   "execution_count": 16,
   "id": "beabd768-9da7-48b4-bc31-66c287ae5616",
   "metadata": {},
   "outputs": [
    {
     "data": {
      "text/html": [
       "<div>\n",
       "<style scoped>\n",
       "    .dataframe tbody tr th:only-of-type {\n",
       "        vertical-align: middle;\n",
       "    }\n",
       "\n",
       "    .dataframe tbody tr th {\n",
       "        vertical-align: top;\n",
       "    }\n",
       "\n",
       "    .dataframe thead th {\n",
       "        text-align: right;\n",
       "    }\n",
       "</style>\n",
       "<table border=\"1\" class=\"dataframe\">\n",
       "  <thead>\n",
       "    <tr style=\"text-align: right;\">\n",
       "      <th></th>\n",
       "      <th>obs_type</th>\n",
       "      <th>finding</th>\n",
       "      <th>finding_seq</th>\n",
       "    </tr>\n",
       "  </thead>\n",
       "  <tbody>\n",
       "    <tr>\n",
       "      <th>0</th>\n",
       "      <td>Modelling Choice Observation</td>\n",
       "      <td>contribution of products towards quaterly reve...</td>\n",
       "      <td>1</td>\n",
       "    </tr>\n",
       "  </tbody>\n",
       "</table>\n",
       "</div>"
      ],
      "text/plain": [
       "                       obs_type  \\\n",
       "0  Modelling Choice Observation   \n",
       "\n",
       "                                             finding  finding_seq  \n",
       "0  contribution of products towards quaterly reve...            1  "
      ]
     },
     "execution_count": 16,
     "metadata": {},
     "output_type": "execute_result"
    }
   ],
   "source": [
    "load_modelling_choice_observations(KNOWLEDGE_BASE)"
   ]
  },
  {
   "cell_type": "code",
   "execution_count": null,
   "id": "13d04df7-bda9-4ba9-b9d1-a18667dae02a",
   "metadata": {},
   "outputs": [],
   "source": []
  }
 ],
 "metadata": {
  "kernelspec": {
   "display_name": "Python 3 (ipykernel)",
   "language": "python",
   "name": "python3"
  },
  "language_info": {
   "codemirror_mode": {
    "name": "ipython",
    "version": 3
   },
   "file_extension": ".py",
   "mimetype": "text/x-python",
   "name": "python",
   "nbconvert_exporter": "python",
   "pygments_lexer": "ipython3",
   "version": "3.11.7"
  }
 },
 "nbformat": 4,
 "nbformat_minor": 5
}
