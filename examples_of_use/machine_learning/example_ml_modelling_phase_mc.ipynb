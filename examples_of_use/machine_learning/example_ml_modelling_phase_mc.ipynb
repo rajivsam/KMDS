{
 "cells": [
  {
   "cell_type": "markdown",
   "id": "57318947-3735-4348-a0b6-160f5cdde767",
   "metadata": {},
   "source": [
    "## Overview\n",
    "In this notebook the modelling choice assumptions are logged. The basic recipe is as follows:\n",
    "1. Read the data representation from the data representation phase\n",
    "2. Compute the quaterly revenue for each product\n",
    "3. Compute the quaterly revenue which is the sum of the product revenues\n",
    "4. Compute the contribution of the product towards the revenue\n",
    "5. Compute the cumulative distribution of each product - from most contribution to least contribution\n",
    "6. Analyze the cumulative contribution distribution\n",
    "7. Trim the products used for daily sales representation\n",
    "8. Write the updated daily sales representation to be used for modelling\n",
    "9. Log the modelling choice with the explaination that contribution of products towards quaterly revenue shows a power law like behavior and so to facilitate understanding of the products that go significantly towards the generated quaterly revenue, we drop the products that materially do not contribute towards the revenue and simply add dimensionality to the problem.\n"
   ]
  },
  {
   "cell_type": "markdown",
   "id": "a73fa10d-8da7-4648-af60-7745c9b6de0d",
   "metadata": {},
   "source": [
    "## Read the data"
   ]
  },
  {
   "cell_type": "code",
   "execution_count": 1,
   "id": "e08504c3-0272-452b-967e-84c8c563a709",
   "metadata": {},
   "outputs": [],
   "source": [
    "import pandas as pd\n",
    "fp = \"../../data/retail_q1_post_data_rep_prep.parquet\"\n",
    "df = pd.read_parquet(fp)"
   ]
  },
  {
   "cell_type": "code",
   "execution_count": 2,
   "id": "a19b4150-621b-4778-9071-752f7cf03376",
   "metadata": {},
   "outputs": [
    {
     "data": {
      "text/html": [
       "<div>\n",
       "<style scoped>\n",
       "    .dataframe tbody tr th:only-of-type {\n",
       "        vertical-align: middle;\n",
       "    }\n",
       "\n",
       "    .dataframe tbody tr th {\n",
       "        vertical-align: top;\n",
       "    }\n",
       "\n",
       "    .dataframe thead th {\n",
       "        text-align: right;\n",
       "    }\n",
       "</style>\n",
       "<table border=\"1\" class=\"dataframe\">\n",
       "  <thead>\n",
       "    <tr style=\"text-align: right;\">\n",
       "      <th></th>\n",
       "      <th>10002</th>\n",
       "      <th>10120</th>\n",
       "      <th>10123C</th>\n",
       "      <th>10124A</th>\n",
       "      <th>10125</th>\n",
       "      <th>10133</th>\n",
       "      <th>10134</th>\n",
       "      <th>10135</th>\n",
       "      <th>10138</th>\n",
       "      <th>11001</th>\n",
       "      <th>...</th>\n",
       "      <th>90214L</th>\n",
       "      <th>90214M</th>\n",
       "      <th>90214N</th>\n",
       "      <th>90214O</th>\n",
       "      <th>90214P</th>\n",
       "      <th>90214R</th>\n",
       "      <th>90214S</th>\n",
       "      <th>90214V</th>\n",
       "      <th>PADS</th>\n",
       "      <th>POST</th>\n",
       "    </tr>\n",
       "  </thead>\n",
       "  <tbody>\n",
       "    <tr>\n",
       "      <th>0</th>\n",
       "      <td>2.55</td>\n",
       "      <td>6.3</td>\n",
       "      <td>0.0</td>\n",
       "      <td>0.0</td>\n",
       "      <td>0.0</td>\n",
       "      <td>0.0</td>\n",
       "      <td>0.0</td>\n",
       "      <td>1.25</td>\n",
       "      <td>0.0</td>\n",
       "      <td>0.00</td>\n",
       "      <td>...</td>\n",
       "      <td>0.0</td>\n",
       "      <td>0.0</td>\n",
       "      <td>2.5</td>\n",
       "      <td>0.0</td>\n",
       "      <td>0.0</td>\n",
       "      <td>0.0</td>\n",
       "      <td>1.25</td>\n",
       "      <td>0.0</td>\n",
       "      <td>0.0</td>\n",
       "      <td>0.0</td>\n",
       "    </tr>\n",
       "    <tr>\n",
       "      <th>1</th>\n",
       "      <td>0.00</td>\n",
       "      <td>0.0</td>\n",
       "      <td>0.0</td>\n",
       "      <td>0.0</td>\n",
       "      <td>0.0</td>\n",
       "      <td>0.0</td>\n",
       "      <td>0.0</td>\n",
       "      <td>12.50</td>\n",
       "      <td>0.0</td>\n",
       "      <td>3.38</td>\n",
       "      <td>...</td>\n",
       "      <td>0.0</td>\n",
       "      <td>0.0</td>\n",
       "      <td>0.0</td>\n",
       "      <td>0.0</td>\n",
       "      <td>0.0</td>\n",
       "      <td>0.0</td>\n",
       "      <td>0.00</td>\n",
       "      <td>0.0</td>\n",
       "      <td>0.0</td>\n",
       "      <td>0.0</td>\n",
       "    </tr>\n",
       "    <tr>\n",
       "      <th>2</th>\n",
       "      <td>0.00</td>\n",
       "      <td>0.0</td>\n",
       "      <td>0.0</td>\n",
       "      <td>0.0</td>\n",
       "      <td>0.0</td>\n",
       "      <td>0.0</td>\n",
       "      <td>0.0</td>\n",
       "      <td>0.00</td>\n",
       "      <td>0.0</td>\n",
       "      <td>0.00</td>\n",
       "      <td>...</td>\n",
       "      <td>0.0</td>\n",
       "      <td>0.0</td>\n",
       "      <td>0.0</td>\n",
       "      <td>0.0</td>\n",
       "      <td>0.0</td>\n",
       "      <td>0.0</td>\n",
       "      <td>0.00</td>\n",
       "      <td>0.0</td>\n",
       "      <td>0.0</td>\n",
       "      <td>0.0</td>\n",
       "    </tr>\n",
       "    <tr>\n",
       "      <th>3</th>\n",
       "      <td>0.00</td>\n",
       "      <td>0.0</td>\n",
       "      <td>0.0</td>\n",
       "      <td>0.0</td>\n",
       "      <td>0.0</td>\n",
       "      <td>108.0</td>\n",
       "      <td>212.0</td>\n",
       "      <td>0.00</td>\n",
       "      <td>0.0</td>\n",
       "      <td>27.04</td>\n",
       "      <td>...</td>\n",
       "      <td>0.0</td>\n",
       "      <td>0.0</td>\n",
       "      <td>0.0</td>\n",
       "      <td>0.0</td>\n",
       "      <td>0.0</td>\n",
       "      <td>0.0</td>\n",
       "      <td>0.00</td>\n",
       "      <td>0.0</td>\n",
       "      <td>0.0</td>\n",
       "      <td>19.0</td>\n",
       "    </tr>\n",
       "    <tr>\n",
       "      <th>4</th>\n",
       "      <td>10.20</td>\n",
       "      <td>0.0</td>\n",
       "      <td>0.0</td>\n",
       "      <td>0.0</td>\n",
       "      <td>0.0</td>\n",
       "      <td>0.0</td>\n",
       "      <td>0.0</td>\n",
       "      <td>0.00</td>\n",
       "      <td>0.0</td>\n",
       "      <td>0.00</td>\n",
       "      <td>...</td>\n",
       "      <td>0.0</td>\n",
       "      <td>0.0</td>\n",
       "      <td>0.0</td>\n",
       "      <td>0.0</td>\n",
       "      <td>0.0</td>\n",
       "      <td>0.0</td>\n",
       "      <td>0.00</td>\n",
       "      <td>0.0</td>\n",
       "      <td>0.0</td>\n",
       "      <td>477.0</td>\n",
       "    </tr>\n",
       "  </tbody>\n",
       "</table>\n",
       "<p>5 rows × 3092 columns</p>\n",
       "</div>"
      ],
      "text/plain": [
       "   10002  10120  10123C  10124A  10125  10133  10134  10135  10138  11001  \\\n",
       "0   2.55    6.3     0.0     0.0    0.0    0.0    0.0   1.25    0.0   0.00   \n",
       "1   0.00    0.0     0.0     0.0    0.0    0.0    0.0  12.50    0.0   3.38   \n",
       "2   0.00    0.0     0.0     0.0    0.0    0.0    0.0   0.00    0.0   0.00   \n",
       "3   0.00    0.0     0.0     0.0    0.0  108.0  212.0   0.00    0.0  27.04   \n",
       "4  10.20    0.0     0.0     0.0    0.0    0.0    0.0   0.00    0.0   0.00   \n",
       "\n",
       "   ...  90214L  90214M  90214N  90214O  90214P  90214R  90214S  90214V  PADS  \\\n",
       "0  ...     0.0     0.0     2.5     0.0     0.0     0.0    1.25     0.0   0.0   \n",
       "1  ...     0.0     0.0     0.0     0.0     0.0     0.0    0.00     0.0   0.0   \n",
       "2  ...     0.0     0.0     0.0     0.0     0.0     0.0    0.00     0.0   0.0   \n",
       "3  ...     0.0     0.0     0.0     0.0     0.0     0.0    0.00     0.0   0.0   \n",
       "4  ...     0.0     0.0     0.0     0.0     0.0     0.0    0.00     0.0   0.0   \n",
       "\n",
       "    POST  \n",
       "0    0.0  \n",
       "1    0.0  \n",
       "2    0.0  \n",
       "3   19.0  \n",
       "4  477.0  \n",
       "\n",
       "[5 rows x 3092 columns]"
      ]
     },
     "execution_count": 2,
     "metadata": {},
     "output_type": "execute_result"
    }
   ],
   "source": [
    "df.head()"
   ]
  },
  {
   "cell_type": "markdown",
   "id": "9b993025-3c86-49a6-a94c-f501369632c6",
   "metadata": {},
   "source": [
    "## Compute product contribution to quaterly revenue"
   ]
  },
  {
   "cell_type": "code",
   "execution_count": 3,
   "id": "bee5abf6-a032-4bd8-a74f-6933c4239570",
   "metadata": {},
   "outputs": [],
   "source": [
    "df_prod_contrib = df.sum(axis=0).sort_values(ascending=False)\n"
   ]
  },
  {
   "cell_type": "code",
   "execution_count": 4,
   "id": "194665e8-8d6b-465b-a280-6b96df890bac",
   "metadata": {},
   "outputs": [],
   "source": [
    "df_prod_contrib = df_prod_contrib.to_frame()\n"
   ]
  },
  {
   "cell_type": "code",
   "execution_count": 5,
   "id": "a9d2972a-4498-4882-a5bb-ea62117ac356",
   "metadata": {},
   "outputs": [],
   "source": [
    "df_prod_contrib = df_prod_contrib.reset_index()"
   ]
  },
  {
   "cell_type": "code",
   "execution_count": 6,
   "id": "58c3cc5c-7082-4522-9ba9-ae399dc5c10b",
   "metadata": {},
   "outputs": [],
   "source": [
    "df_prod_contrib.columns = [\"Stock_Code\", \"Revenue\"]"
   ]
  },
  {
   "cell_type": "markdown",
   "id": "3b4ce125-b4a3-4200-a7e8-dcb64d1c0e66",
   "metadata": {},
   "source": [
    "## Compute total revenue"
   ]
  },
  {
   "cell_type": "code",
   "execution_count": 7,
   "id": "80a2a015-b645-464f-a54a-e40ebd03046c",
   "metadata": {},
   "outputs": [],
   "source": [
    "total_revenue = df_prod_contrib[\"Revenue\"].sum()"
   ]
  },
  {
   "cell_type": "markdown",
   "id": "3fda5ded-0c00-4fe6-82fb-6158c037bdbc",
   "metadata": {},
   "source": [
    "## Compute Cumulative Contribution of each product revenue towards the quaterly revenue"
   ]
  },
  {
   "cell_type": "code",
   "execution_count": 8,
   "id": "b0806448-486e-4fc0-b15d-23773ebf486a",
   "metadata": {},
   "outputs": [],
   "source": [
    "df_prod_contrib[\"Contribution\"] = (df_prod_contrib[\"Revenue\"]/total_revenue) * 100"
   ]
  },
  {
   "cell_type": "code",
   "execution_count": 9,
   "id": "b154afbe-2068-4e9c-8155-0f671720bd01",
   "metadata": {},
   "outputs": [],
   "source": [
    "df_prod_contrib[\"Cum_Contrib\"] = df_prod_contrib[\"Contribution\"].cumsum()"
   ]
  },
  {
   "cell_type": "markdown",
   "id": "b1d530f2-52ad-49f5-b8c8-385cc2568bbc",
   "metadata": {},
   "source": [
    "## Analyze the Contribution"
   ]
  },
  {
   "cell_type": "code",
   "execution_count": 10,
   "id": "d7d41259-fcc7-4003-9f56-0586d5e5fe91",
   "metadata": {},
   "outputs": [],
   "source": [
    "df_prod_contrib = df_prod_contrib[df_prod_contrib[\"Cum_Contrib\"] <= 80]\n",
    "df_prod_contrib = df_prod_contrib.reset_index(drop=True)\n",
    "in_demand_inventory = df_prod_contrib[\"Stock_Code\"]"
   ]
  },
  {
   "cell_type": "markdown",
   "id": "c0730271-3335-4be8-8fc8-d0501a05a770",
   "metadata": {},
   "source": [
    "## Write the updated data representation to disk"
   ]
  },
  {
   "cell_type": "code",
   "execution_count": 11,
   "id": "ca384ea3-2450-4b77-997e-0542d770e126",
   "metadata": {},
   "outputs": [],
   "source": [
    "df = df[in_demand_inventory]"
   ]
  },
  {
   "cell_type": "code",
   "execution_count": 12,
   "id": "ad9a32f0-007a-404d-b3bf-0b3255152bbb",
   "metadata": {},
   "outputs": [],
   "source": [
    "fp = \"../../data/retail_q1_post_mc.parquet\"\n",
    "df.to_parquet(fp, index=False)"
   ]
  }
 ],
 "metadata": {
  "kernelspec": {
   "display_name": "Python 3 (ipykernel)",
   "language": "python",
   "name": "python3"
  },
  "language_info": {
   "codemirror_mode": {
    "name": "ipython",
    "version": 3
   },
   "file_extension": ".py",
   "mimetype": "text/x-python",
   "name": "python",
   "nbconvert_exporter": "python",
   "pygments_lexer": "ipython3",
   "version": "3.11.7"
  }
 },
 "nbformat": 4,
 "nbformat_minor": 5
}
