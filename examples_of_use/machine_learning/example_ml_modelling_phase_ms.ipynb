{
 "cells": [
  {
   "cell_type": "markdown",
   "id": "692c7458-3bd7-45bd-bfff-7bf03f882c5e",
   "metadata": {},
   "source": [
    "## Overview\n",
    "This notebook implements the model selection phase of the example. To explain the patterns of daily customer purchases\n",
    "at the store we run PCA on the trimmed daily sales representation. There are many choices to explain variation and summarize\n",
    "data. PCA is used here for illustration. Other choices such as support vector data description or matrix factorization based approaches\n",
    "could be favored by some analysts or teams. The point here is that it is possible to capture annotations about rationale used\n",
    "to make model selection decisions. This is done after developing the model and logging the observations to KMDS. The basic recipe in the note book is:\n",
    "1. Read the data representation post the modelling choice decision to trim the representation to only use store inventory that accounts for daily variation - see the modelling choice notebook for details\n",
    "2. Run PCA on the representation\n",
    "3. Analyze the results\n",
    "4. Log the observations with KMDS"
   ]
  },
  {
   "cell_type": "markdown",
   "id": "9bb5c112-8587-4467-a8ef-ceb38a33a8bd",
   "metadata": {},
   "source": [
    "## Read the Data"
   ]
  },
  {
   "cell_type": "code",
   "execution_count": 1,
   "id": "42e1a1ae-5b45-41e5-b1f1-d2f23d561f6a",
   "metadata": {},
   "outputs": [],
   "source": [
    "import pandas as pd\n",
    "fp = \"../../kmds/examples/retail_q1_post_data_rep_prep.parquet\"\n",
    "df = pd.read_parquet(fp)"
   ]
  },
  {
   "cell_type": "markdown",
   "id": "db0cf529-aa0d-47f6-ae61-40f8d8d0773f",
   "metadata": {},
   "source": [
    "## Run PCA"
   ]
  },
  {
   "cell_type": "code",
   "execution_count": 2,
   "id": "53a6d9c6-ea06-408c-ae94-eb71f1b1c50a",
   "metadata": {},
   "outputs": [],
   "source": [
    "from sklearn.decomposition import PCA"
   ]
  },
  {
   "cell_type": "code",
   "execution_count": 3,
   "id": "a8ece6c3-acbd-486e-a298-9d478b885761",
   "metadata": {},
   "outputs": [
    {
     "data": {
      "text/plain": [
       "array([[-344.71607154,  -53.99965392,  -67.59825167, ..., -286.83917082,\n",
       "         275.63272669,  120.01201478],\n",
       "       [-197.12701461,   44.14881847, -120.21426165, ...,  240.08521115,\n",
       "         118.84261618,  257.38997529],\n",
       "       [-336.6022491 ,   20.45942489, -100.43413909, ...,  -45.17495021,\n",
       "         -10.95369987,  -12.96591113],\n",
       "       ...,\n",
       "       [ 165.28815652,  152.7740629 , -161.67334865, ...,   45.54741999,\n",
       "          13.39956253,    6.24905219],\n",
       "       [-235.02849098,  102.91589786,  -78.24813975, ...,  -13.79105622,\n",
       "          36.47025428,  -69.7452242 ],\n",
       "       [ -94.96490655,  109.86322628,  -67.8645792 , ...,   57.03845375,\n",
       "          20.66329073,   70.04697077]])"
      ]
     },
     "execution_count": 3,
     "metadata": {},
     "output_type": "execute_result"
    }
   ],
   "source": [
    "retail_model = PCA(n_components=30)\n",
    "retail_model.fit_transform(df)"
   ]
  },
  {
   "cell_type": "code",
   "execution_count": 4,
   "id": "2c8fbb46-cc4b-4f5c-ad3b-7fb08af9a9a6",
   "metadata": {},
   "outputs": [
    {
     "data": {
      "text/plain": [
       "array([0.12280201, 0.21023078, 0.29474311, 0.35655678, 0.40462036,\n",
       "       0.44959697, 0.4931996 , 0.52644409, 0.5544069 , 0.58047431,\n",
       "       0.60502989, 0.62725672, 0.64848515, 0.66944552, 0.6888062 ,\n",
       "       0.70562963, 0.72216714, 0.73750752, 0.75260008, 0.76591706,\n",
       "       0.77847226, 0.78978622, 0.80069928, 0.81082284, 0.82072503,\n",
       "       0.83010502, 0.83874124, 0.84689316, 0.85464725, 0.86208972])"
      ]
     },
     "execution_count": 4,
     "metadata": {},
     "output_type": "execute_result"
    }
   ],
   "source": [
    " retail_model.explained_variance_ratio_.cumsum()"
   ]
  },
  {
   "cell_type": "markdown",
   "id": "4a960e91-a28e-4bc2-b677-5ac196ba89f9",
   "metadata": {},
   "source": [
    "## Log the Observations to KMDS"
   ]
  },
  {
   "cell_type": "code",
   "execution_count": 5,
   "id": "84c8ad5d-9a4a-4119-a597-abe8b4244511",
   "metadata": {},
   "outputs": [],
   "source": [
    "from tagging.tag_types import *\n",
    "from owlready2 import *\n",
    "from utils.load_utils import *\n",
    "from utils.path_utils import *\n",
    "KNOWLEDGE_BASE = \"../../kmds/examples/example_ml_kb_exp_workflow.xml\"\n"
   ]
  },
  {
   "cell_type": "code",
   "execution_count": 6,
   "id": "e9ab0f60-8fe0-418d-99af-864eec27c616",
   "metadata": {},
   "outputs": [],
   "source": [
    "onto2 = load_kb(KNOWLEDGE_BASE)\n",
    "with onto2:\n",
    "    insts = Workflow.instances()\n",
    "the_workflow_instance = insts[0]"
   ]
  },
  {
   "cell_type": "code",
   "execution_count": 7,
   "id": "c8ef0e2c-92b0-49a0-89b3-a15636f9c66b",
   "metadata": {},
   "outputs": [
    {
     "data": {
      "text/plain": [
       "example_ml_kb_exp_workflow.xml.retail_customer_modelling"
      ]
     },
     "execution_count": 7,
     "metadata": {},
     "output_type": "execute_result"
    }
   ],
   "source": [
    "the_workflow_instance"
   ]
  },
  {
   "cell_type": "code",
   "execution_count": 8,
   "id": "cd2bdaf3-299a-48ec-8849-32d0d13c1e73",
   "metadata": {},
   "outputs": [],
   "source": [
    "ms_obs_list = []\n",
    "observation_count = 1\n",
    "\n",
    "ms1 = ModelSelectionObservation(namespace=onto2)\n",
    "ms1.finding = \"For this iteration, PCA was the only modelling approach to explain the variance in daily\\\n",
    "product sales. This is sufficient to illustrate how a model selection workflow is logged with KMDS.\"\n",
    "ms1.finding_sequence = observation_count\n",
    "ms1.model_selection_observation_type = ModelSelectionTags.MODEL_SELECTION_STATEMENT.value\n",
    "ms_obs_list.append(ms1)\n",
    "the_workflow_instance.has_model_selection_observations = ms_obs_list\n",
    "onto2.save(file=KNOWLEDGE_BASE, format=\"rdfxml\")"
   ]
  },
  {
   "cell_type": "code",
   "execution_count": null,
   "id": "f9847d9d-5d41-4412-867e-286e1a067b48",
   "metadata": {},
   "outputs": [],
   "source": []
  }
 ],
 "metadata": {
  "kernelspec": {
   "display_name": "Python 3 (ipykernel)",
   "language": "python",
   "name": "python3"
  },
  "language_info": {
   "codemirror_mode": {
    "name": "ipython",
    "version": 3
   },
   "file_extension": ".py",
   "mimetype": "text/x-python",
   "name": "python",
   "nbconvert_exporter": "python",
   "pygments_lexer": "ipython3",
   "version": "3.11.7"
  }
 },
 "nbformat": 4,
 "nbformat_minor": 5
}
