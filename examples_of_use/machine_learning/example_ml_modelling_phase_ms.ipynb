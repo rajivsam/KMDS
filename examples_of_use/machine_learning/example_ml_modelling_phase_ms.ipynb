{
 "cells": [
  {
   "cell_type": "code",
   "execution_count": 1,
   "id": "42e1a1ae-5b45-41e5-b1f1-d2f23d561f6a",
   "metadata": {},
   "outputs": [],
   "source": [
    "import pandas as pd\n",
    "fp = \"../../kmds/examples/retail_q1_post_data_rep_prep.parquet\"\n",
    "df = pd.read_parquet(fp)"
   ]
  },
  {
   "cell_type": "code",
   "execution_count": 7,
   "id": "53a6d9c6-ea06-408c-ae94-eb71f1b1c50a",
   "metadata": {},
   "outputs": [],
   "source": [
    "from sklearn.decomposition import PCA"
   ]
  },
  {
   "cell_type": "code",
   "execution_count": 8,
   "id": "a8ece6c3-acbd-486e-a298-9d478b885761",
   "metadata": {},
   "outputs": [
    {
     "data": {
      "text/plain": [
       "array([[-3.44716385e+02, -5.39986164e+01, -6.75971630e+01, ...,\n",
       "        -2.95634383e+02,  2.93373776e+02,  3.12519915e+01],\n",
       "       [-1.97127189e+02,  4.41476646e+01, -1.20215116e+02, ...,\n",
       "         2.13003529e+02,  1.35848518e+02,  1.29566104e+02],\n",
       "       [-3.36602305e+02,  2.04595150e+01, -1.00434200e+02, ...,\n",
       "        -4.92413225e+01, -2.41207303e-01,  9.13353182e+00],\n",
       "       ...,\n",
       "       [ 1.65288167e+02,  1.52774107e+02, -1.61673343e+02, ...,\n",
       "         4.48244258e+01,  1.02363915e+01,  4.65342143e-01],\n",
       "       [-2.35028480e+02,  1.02916386e+02, -7.82476991e+01, ...,\n",
       "        -5.26445350e+00,  3.46654385e+01, -5.33963453e+01],\n",
       "       [-9.49650042e+01,  1.09861405e+02, -6.78650994e+01, ...,\n",
       "         4.12360075e+01,  3.38526933e+01,  3.05572376e+01]])"
      ]
     },
     "execution_count": 8,
     "metadata": {},
     "output_type": "execute_result"
    }
   ],
   "source": [
    "my_model = PCA(n_components=30)\n",
    "my_model.fit_transform(df)"
   ]
  },
  {
   "cell_type": "code",
   "execution_count": 9,
   "id": "2c8fbb46-cc4b-4f5c-ad3b-7fb08af9a9a6",
   "metadata": {},
   "outputs": [
    {
     "data": {
      "text/plain": [
       "array([0.12280201, 0.21023078, 0.29474311, 0.35655678, 0.40462036,\n",
       "       0.44959697, 0.4931996 , 0.52644409, 0.55440688, 0.58047424,\n",
       "       0.60502975, 0.62725659, 0.64848503, 0.66944534, 0.68880601,\n",
       "       0.70562879, 0.72216584, 0.73750631, 0.75259776, 0.76591648,\n",
       "       0.77847176, 0.78978604, 0.80069871, 0.8108198 , 0.82068884,\n",
       "       0.83004671, 0.83868139, 0.84682343, 0.85458826, 0.8620407 ])"
      ]
     },
     "execution_count": 9,
     "metadata": {},
     "output_type": "execute_result"
    }
   ],
   "source": [
    " my_model.explained_variance_ratio_.cumsum()"
   ]
  },
  {
   "cell_type": "code",
   "execution_count": 25,
   "id": "84c8ad5d-9a4a-4119-a597-abe8b4244511",
   "metadata": {},
   "outputs": [
    {
     "data": {
      "text/plain": [
       "array([ 1, -1,  1, -1, -1, -1, -1, -1,  1,  1,  1,  1,  1,  1,  1, -1, -1,\n",
       "        1,  1, -1,  1,  1,  1,  1,  1,  1,  1,  1,  0,  2,  1,  1,  1,  1,\n",
       "        1,  1, -1,  1, -1, -1,  0,  1, -1,  1, -1, -1,  1,  1,  1,  1,  2,\n",
       "        1, -1,  1, -1,  1,  1,  1, -1,  1,  1,  1, -1, -1,  1, -1,  1, -1,\n",
       "       -1, -1, -1,  1, -1, -1,  1])"
      ]
     },
     "execution_count": 25,
     "metadata": {},
     "output_type": "execute_result"
    }
   ],
   "source": [
    "hdb.labels_"
   ]
  },
  {
   "cell_type": "code",
   "execution_count": null,
   "id": "e9ab0f60-8fe0-418d-99af-864eec27c616",
   "metadata": {},
   "outputs": [],
   "source": []
  }
 ],
 "metadata": {
  "kernelspec": {
   "display_name": "Python 3 (ipykernel)",
   "language": "python",
   "name": "python3"
  },
  "language_info": {
   "codemirror_mode": {
    "name": "ipython",
    "version": 3
   },
   "file_extension": ".py",
   "mimetype": "text/x-python",
   "name": "python",
   "nbconvert_exporter": "python",
   "pygments_lexer": "ipython3",
   "version": "3.11.7"
  }
 },
 "nbformat": 4,
 "nbformat_minor": 5
}
