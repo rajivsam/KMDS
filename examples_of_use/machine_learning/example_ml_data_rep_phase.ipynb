{
 "cells": [
  {
   "cell_type": "code",
   "execution_count": 1,
   "id": "1c7e2e8d-214a-4fab-806c-00871e5012c5",
   "metadata": {},
   "outputs": [],
   "source": [
    "import pandas as pd\n",
    "fp = \"../../data/retail_q1_post_EDA.parquet\"\n",
    "df = pd.read_parquet(fp)"
   ]
  },
  {
   "cell_type": "code",
   "execution_count": 3,
   "id": "ac547ce4-34a0-4b64-95b0-b8fabdb0b58c",
   "metadata": {},
   "outputs": [],
   "source": [
    "df[\"item_total\"] = df[\"Quantity\"] * df[\"Price\"]\n",
    "dsbysc = df.groupby([df.InvoiceDate.dt.day_of_year, df.StockCode])\n",
    "dsbysc = dsbysc[\"item_total\"].sum().to_frame().reset_index()\n",
    "dfQ1_PA = dsbysc.pivot(index=\"InvoiceDate\", columns=\"StockCode\", values=\"item_total\").fillna(0)"
   ]
  },
  {
   "cell_type": "code",
   "execution_count": 5,
   "id": "31ee4016-6831-40a2-9279-dc9f303257e2",
   "metadata": {},
   "outputs": [],
   "source": [
    "fp = \"../../data/retail_q1_post_data_rep_prep.parquet\"\n",
    "dfQ1_PA.to_parquet(fp, index=False)"
   ]
  },
  {
   "cell_type": "code",
   "execution_count": 6,
   "id": "59f3ae8b-dfec-48ef-8bb8-c4397705ba55",
   "metadata": {},
   "outputs": [],
   "source": [
    "from ontology.kmds_ontology import *\n",
    "from tagging.tag_types import ExploratoryTags\n",
    "from owlready2 import *\n",
    "from utils.path_utils import get_kb_file_path, get_ontology_path\n",
    "KNOWLEDGE_BASE = \"example_ml_kb_exp_workflow\"\n",
    "onto = get_ontology(get_kb_file_path(KNOWLEDGE_BASE)).load()"
   ]
  },
  {
   "cell_type": "code",
   "execution_count": null,
   "id": "57ab8055-cfd6-45d4-ab11-aa041a021a3d",
   "metadata": {},
   "outputs": [],
   "source": []
  }
 ],
 "metadata": {
  "kernelspec": {
   "display_name": "Python 3 (ipykernel)",
   "language": "python",
   "name": "python3"
  },
  "language_info": {
   "codemirror_mode": {
    "name": "ipython",
    "version": 3
   },
   "file_extension": ".py",
   "mimetype": "text/x-python",
   "name": "python",
   "nbconvert_exporter": "python",
   "pygments_lexer": "ipython3",
   "version": "3.11.7"
  }
 },
 "nbformat": 4,
 "nbformat_minor": 5
}
