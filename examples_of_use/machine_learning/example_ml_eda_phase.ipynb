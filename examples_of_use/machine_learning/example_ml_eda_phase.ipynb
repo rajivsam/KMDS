{
 "cells": [
  {
   "cell_type": "markdown",
   "id": "ec8b1777-c625-4197-ac5e-94dbb7a62ac5",
   "metadata": {},
   "source": [
    "## Read Data"
   ]
  },
  {
   "cell_type": "code",
   "execution_count": 1,
   "id": "85ee8126",
   "metadata": {
    "canvas": {
     "comments": [],
     "componentType": "CodeCell",
     "copiedOriginId": null,
     "diskcache": false,
     "headerColor": "transparent",
     "id": "9b19758f-15c9-4d44-b09f-a1274ea8e1a4",
     "isComponent": false,
     "name": "",
     "parents": []
    },
    "tags": []
   },
   "outputs": [],
   "source": [
    "import pandas as pd\n",
    "fp = \"../../data/online_retail_Q1_2010.parquet\"\n",
    "df = pd.read_parquet(fp)"
   ]
  },
  {
   "cell_type": "code",
   "execution_count": 2,
   "id": "162825ef-afa0-4485-97c2-66dd3f018f3c",
   "metadata": {},
   "outputs": [
    {
     "data": {
      "text/html": [
       "<div>\n",
       "<style scoped>\n",
       "    .dataframe tbody tr th:only-of-type {\n",
       "        vertical-align: middle;\n",
       "    }\n",
       "\n",
       "    .dataframe tbody tr th {\n",
       "        vertical-align: top;\n",
       "    }\n",
       "\n",
       "    .dataframe thead th {\n",
       "        text-align: right;\n",
       "    }\n",
       "</style>\n",
       "<table border=\"1\" class=\"dataframe\">\n",
       "  <thead>\n",
       "    <tr style=\"text-align: right;\">\n",
       "      <th></th>\n",
       "      <th>Invoice</th>\n",
       "      <th>StockCode</th>\n",
       "      <th>Description</th>\n",
       "      <th>Quantity</th>\n",
       "      <th>InvoiceDate</th>\n",
       "      <th>Price</th>\n",
       "      <th>Customer ID</th>\n",
       "      <th>Country</th>\n",
       "    </tr>\n",
       "  </thead>\n",
       "  <tbody>\n",
       "    <tr>\n",
       "      <th>8275</th>\n",
       "      <td>494280</td>\n",
       "      <td>20725</td>\n",
       "      <td>LUNCH BAG RED SPOTTY</td>\n",
       "      <td>10</td>\n",
       "      <td>2010-01-13 10:43:00</td>\n",
       "      <td>1.65</td>\n",
       "      <td>12682.0</td>\n",
       "      <td>France</td>\n",
       "    </tr>\n",
       "    <tr>\n",
       "      <th>31970</th>\n",
       "      <td>496429</td>\n",
       "      <td>21042</td>\n",
       "      <td>RED SPOTTY APRON</td>\n",
       "      <td>2</td>\n",
       "      <td>2010-02-01 12:18:00</td>\n",
       "      <td>5.95</td>\n",
       "      <td>14527.0</td>\n",
       "      <td>United Kingdom</td>\n",
       "    </tr>\n",
       "    <tr>\n",
       "      <th>8342</th>\n",
       "      <td>494336</td>\n",
       "      <td>85032A</td>\n",
       "      <td>ROMANTIC IMAGES GIFT WRAP SET</td>\n",
       "      <td>144</td>\n",
       "      <td>2010-01-13 12:30:00</td>\n",
       "      <td>0.65</td>\n",
       "      <td>14137.0</td>\n",
       "      <td>United Kingdom</td>\n",
       "    </tr>\n",
       "    <tr>\n",
       "      <th>66623</th>\n",
       "      <td>500098</td>\n",
       "      <td>85206A</td>\n",
       "      <td>CREAM FELT EASTER EGG BASKET</td>\n",
       "      <td>3</td>\n",
       "      <td>2010-03-04 12:32:00</td>\n",
       "      <td>1.65</td>\n",
       "      <td>16771.0</td>\n",
       "      <td>United Kingdom</td>\n",
       "    </tr>\n",
       "    <tr>\n",
       "      <th>61836</th>\n",
       "      <td>499639</td>\n",
       "      <td>37441</td>\n",
       "      <td>ASSORTED WHITE EMBOSSED CHINA MUGS</td>\n",
       "      <td>6</td>\n",
       "      <td>2010-03-01 13:51:00</td>\n",
       "      <td>2.10</td>\n",
       "      <td>16519.0</td>\n",
       "      <td>United Kingdom</td>\n",
       "    </tr>\n",
       "  </tbody>\n",
       "</table>\n",
       "</div>"
      ],
      "text/plain": [
       "      Invoice StockCode                         Description  Quantity  \\\n",
       "8275   494280     20725                LUNCH BAG RED SPOTTY        10   \n",
       "31970  496429     21042                   RED SPOTTY APRON          2   \n",
       "8342   494336    85032A       ROMANTIC IMAGES GIFT WRAP SET       144   \n",
       "66623  500098    85206A        CREAM FELT EASTER EGG BASKET         3   \n",
       "61836  499639     37441  ASSORTED WHITE EMBOSSED CHINA MUGS         6   \n",
       "\n",
       "              InvoiceDate  Price  Customer ID         Country  \n",
       "8275  2010-01-13 10:43:00   1.65      12682.0          France  \n",
       "31970 2010-02-01 12:18:00   5.95      14527.0  United Kingdom  \n",
       "8342  2010-01-13 12:30:00   0.65      14137.0  United Kingdom  \n",
       "66623 2010-03-04 12:32:00   1.65      16771.0  United Kingdom  \n",
       "61836 2010-03-01 13:51:00   2.10      16519.0  United Kingdom  "
      ]
     },
     "execution_count": 2,
     "metadata": {},
     "output_type": "execute_result"
    }
   ],
   "source": [
    "df.sample(n=5)"
   ]
  },
  {
   "cell_type": "code",
   "execution_count": 3,
   "id": "3c0d1b58-4c3e-4ded-baf3-8cffd05137c6",
   "metadata": {},
   "outputs": [],
   "source": [
    "def valid_date_time(x):\n",
    "    try:\n",
    "        pd.to_datetime(x)\n",
    "        return True\n",
    "    except Exception as e:\n",
    "        return False\n",
    "valid_datetime = df[\"InvoiceDate\"].apply(valid_date_time)"
   ]
  },
  {
   "cell_type": "code",
   "execution_count": 4,
   "id": "959dd660-5ce4-4de3-8067-3535eb7dd4fe",
   "metadata": {},
   "outputs": [],
   "source": [
    "df = df[valid_datetime]"
   ]
  },
  {
   "cell_type": "code",
   "execution_count": 5,
   "id": "08eea36e-7a5f-4a49-8eb3-e9c409decc45",
   "metadata": {},
   "outputs": [],
   "source": [
    "df[\"InvoiceDate\"] = pd.to_datetime(df[\"InvoiceDate\"])"
   ]
  },
  {
   "cell_type": "markdown",
   "id": "ee5669dc-8c39-4939-929b-cf4e46d44043",
   "metadata": {},
   "source": [
    "## Identify the columns with mixed types"
   ]
  },
  {
   "cell_type": "code",
   "execution_count": 6,
   "id": "d4b49d01-46ce-4330-9f57-3b93801a562f",
   "metadata": {},
   "outputs": [
    {
     "data": {
      "text/plain": [
       "['Quantity', 'Price', 'Customer ID']"
      ]
     },
     "execution_count": 6,
     "metadata": {},
     "output_type": "execute_result"
    }
   ],
   "source": [
    "cols = df.columns.tolist()\n",
    "[cols[i] for i in [3,5,6]]"
   ]
  },
  {
   "cell_type": "markdown",
   "id": "96ca47be-ccfe-4614-bbab-2d91f4fbb758",
   "metadata": {},
   "source": [
    "## Noise Filter #1 Definition"
   ]
  },
  {
   "cell_type": "code",
   "execution_count": 7,
   "id": "dc1b4b72",
   "metadata": {
    "canvas": {
     "comments": [],
     "componentType": "CodeCell",
     "copiedOriginId": null,
     "diskcache": false,
     "headerColor": "transparent",
     "id": "a28d465b-6a9a-4deb-b3e8-80ba52c471fe",
     "isComponent": false,
     "name": "",
     "parents": []
    },
    "tags": []
   },
   "outputs": [],
   "source": [
    "valid_cust = ~df[\"Customer ID\"].isna()\n",
    "valid_desc = ~df[\"Description\"].isna()\n",
    "valid_stock_code = ~df[\"Description\"].isna()"
   ]
  },
  {
   "cell_type": "markdown",
   "id": "1a4b73e9-305f-4488-9d9f-ff8e573c4135",
   "metadata": {},
   "source": [
    "## Apply Noise Filter # 1"
   ]
  },
  {
   "cell_type": "code",
   "execution_count": 8,
   "id": "ca0bceb2",
   "metadata": {
    "canvas": {
     "comments": [],
     "componentType": "CodeCell",
     "copiedOriginId": null,
     "diskcache": false,
     "headerColor": "transparent",
     "id": "416d12e2-7723-4363-9954-6670c0bedc9f",
     "isComponent": false,
     "name": "",
     "parents": []
    },
    "tags": []
   },
   "outputs": [],
   "source": [
    "noise_filter_1 = valid_cust & valid_desc\n",
    "df = df[noise_filter_1].reset_index(drop=True)"
   ]
  },
  {
   "cell_type": "markdown",
   "id": "01719bc7-e33d-483b-a9f0-311d9e15d0a2",
   "metadata": {},
   "source": [
    "## Noise Filter #2 Definition"
   ]
  },
  {
   "cell_type": "code",
   "execution_count": 9,
   "id": "932e99d1-aeb1-4ff3-b201-340048327205",
   "metadata": {
    "canvas": {
     "comments": [],
     "componentType": "CodeCell",
     "copiedOriginId": null,
     "diskcache": false,
     "headerColor": "transparent",
     "id": "346108a0-beaa-4af1-a6a3-68127d65bb02",
     "isComponent": false,
     "name": "",
     "parents": []
    },
    "tags": []
   },
   "outputs": [],
   "source": [
    "def good_quantity_record_check(x):\n",
    "    try:\n",
    "        f_x = float(x)\n",
    "        if f_x > 0:\n",
    "            return True\n",
    "        else:\n",
    "            return False # returned purchase\n",
    "    except :\n",
    "        return False\n"
   ]
  },
  {
   "cell_type": "markdown",
   "id": "9cf3f737-ce50-449f-ba8c-ea46aada86a3",
   "metadata": {},
   "source": [
    "## Apply Noise Filter #2"
   ]
  },
  {
   "cell_type": "code",
   "execution_count": 10,
   "id": "8f57b8a3-d9cc-4e56-a539-2de650a2116d",
   "metadata": {
    "canvas": {
     "comments": [],
     "componentType": "CodeCell",
     "copiedOriginId": null,
     "diskcache": false,
     "headerColor": "transparent",
     "id": "a0e3b8ed-e1ec-421f-a8b6-6e0acc143e46",
     "isComponent": false,
     "name": "",
     "parents": []
    },
    "tags": []
   },
   "outputs": [],
   "source": [
    "good_quantity_records = df[\"Quantity\"].apply(good_quantity_record_check)\n",
    "df = df[good_quantity_records]\n",
    "df = df.reset_index(drop=True)"
   ]
  },
  {
   "cell_type": "markdown",
   "id": "9e73a497-b50f-498c-b798-9784840c36c5",
   "metadata": {},
   "source": [
    "## Noise Filter #3 Definition"
   ]
  },
  {
   "cell_type": "code",
   "execution_count": 11,
   "id": "4e5e52b1-f010-44f6-8748-adb470fb7c15",
   "metadata": {
    "canvas": {
     "comments": [],
     "componentType": "CodeCell",
     "copiedOriginId": null,
     "diskcache": false,
     "headerColor": "transparent",
     "id": "692220ee-ff53-430e-a896-a50741b417dc",
     "isComponent": false,
     "name": "",
     "parents": []
    },
    "tags": []
   },
   "outputs": [],
   "source": [
    "return_or_bank_charges = (df.Price == \"BANK CHARGES\") | (df.Price == \"ADJUST\")\n",
    "valid_purchases = ~ return_or_bank_charges"
   ]
  },
  {
   "cell_type": "markdown",
   "id": "3b4426e6-9884-4e5c-99b5-a62cd5cfbc88",
   "metadata": {},
   "source": [
    "## Apply Noise Filter #3"
   ]
  },
  {
   "cell_type": "code",
   "execution_count": 12,
   "id": "2694127b",
   "metadata": {
    "canvas": {
     "comments": [],
     "componentType": "CodeCell",
     "copiedOriginId": null,
     "diskcache": false,
     "headerColor": "transparent",
     "id": "0295c30e-ca12-49b8-bc22-db0a143a75ea",
     "isComponent": false,
     "name": "",
     "parents": []
    },
    "tags": []
   },
   "outputs": [],
   "source": [
    "df = df[valid_purchases]\n",
    "df = df.reset_index(drop=True)"
   ]
  },
  {
   "cell_type": "markdown",
   "id": "549cbf37-8641-4d75-a6ef-9c626778a545",
   "metadata": {},
   "source": [
    "## Noise Filter #4 Definition"
   ]
  },
  {
   "cell_type": "code",
   "execution_count": 13,
   "id": "489c1ec9-abae-4162-87a8-cd79f7af20fa",
   "metadata": {
    "canvas": {
     "comments": [],
     "componentType": "CodeCell",
     "copiedOriginId": null,
     "diskcache": false,
     "headerColor": "transparent",
     "id": "b8d7fa16-6500-4d84-b117-694385e03b30",
     "isComponent": false,
     "name": "",
     "parents": []
    },
    "tags": []
   },
   "outputs": [],
   "source": [
    "def not_test_product(x):\n",
    "    if \"TEST\" in x:\n",
    "        return False\n",
    "    elif x in [\"ADJUST\", \"BANK CHARGES\", \"C2\", \"M\"]:\n",
    "        return False\n",
    "    else:\n",
    "        return True"
   ]
  },
  {
   "cell_type": "markdown",
   "id": "1d887dfc-6d3c-4f81-91d2-7f843fb4ed53",
   "metadata": {},
   "source": [
    "## Apply Noise Filter #4"
   ]
  },
  {
   "cell_type": "code",
   "execution_count": 14,
   "id": "0f72973b-78e7-434d-b761-ea29dbede209",
   "metadata": {
    "canvas": {
     "comments": [],
     "componentType": "CodeCell",
     "copiedOriginId": null,
     "diskcache": false,
     "headerColor": "transparent",
     "id": "7d6db198-4ca2-426f-b994-b2cd35701acc",
     "isComponent": false,
     "name": "",
     "parents": []
    },
    "tags": []
   },
   "outputs": [],
   "source": [
    "valid_products = df[\"StockCode\"].apply(not_test_product)\n",
    "df = df[valid_products]\n",
    "df = df.reset_index(drop=True)"
   ]
  },
  {
   "cell_type": "code",
   "execution_count": 15,
   "id": "a319abed-d68d-44f1-aece-07bb1a97fcbb",
   "metadata": {},
   "outputs": [
    {
     "data": {
      "text/plain": [
       "['Invoice',\n",
       " 'StockCode',\n",
       " 'Description',\n",
       " 'Quantity',\n",
       " 'InvoiceDate',\n",
       " 'Price',\n",
       " 'Customer ID',\n",
       " 'Country']"
      ]
     },
     "execution_count": 15,
     "metadata": {},
     "output_type": "execute_result"
    }
   ],
   "source": [
    "cols"
   ]
  },
  {
   "cell_type": "markdown",
   "id": "e8ba1cb0-1797-4a45-82f4-44ed02017b51",
   "metadata": {},
   "source": [
    "## Define Noise Filter #5"
   ]
  },
  {
   "cell_type": "code",
   "execution_count": 16,
   "id": "83f89a4b",
   "metadata": {
    "canvas": {
     "comments": [],
     "componentType": "CodeCell",
     "copiedOriginId": null,
     "diskcache": false,
     "headerColor": "transparent",
     "id": "e1cbd901-b8a2-4d5d-8c78-6ba865edaf47",
     "isComponent": false,
     "name": "",
     "parents": []
    },
    "tags": []
   },
   "outputs": [],
   "source": [
    "\n",
    "attr_types = {\"Invoice\": str, \"StockCode\": str, \"Description\": str,\\\n",
    "             \"Quantity\": float, \"InvoiceDate\": 'datetime64[ns]', \"Price\": float,\\\n",
    "             \"Customer ID\": str, \"Country\": str}\n",
    "df = df.astype(attr_types)\n",
    "Q1_2010 = (df[\"InvoiceDate\"].dt.year == 2010) & (df[\"InvoiceDate\"].dt.quarter == 1)"
   ]
  },
  {
   "cell_type": "markdown",
   "id": "0e9b4c04-32d4-4d0f-bcc4-b6f5063440d3",
   "metadata": {},
   "source": [
    "## Apply Noise Filter #5"
   ]
  },
  {
   "cell_type": "code",
   "execution_count": 17,
   "id": "3c04d6eb",
   "metadata": {
    "canvas": {
     "comments": [],
     "componentType": "CodeCell",
     "copiedOriginId": null,
     "diskcache": false,
     "headerColor": "transparent",
     "id": "773f5879-9140-44c8-9e4a-7fc24f74cd27",
     "isComponent": false,
     "name": "",
     "parents": []
    },
    "tags": []
   },
   "outputs": [],
   "source": [
    "df = df[Q1_2010]\n",
    "df = df.reset_index(drop=True)"
   ]
  },
  {
   "cell_type": "markdown",
   "id": "1747ee25-d49c-47f4-b464-d71c219d97ca",
   "metadata": {},
   "source": [
    "## Save Prepared Data to Disk"
   ]
  },
  {
   "cell_type": "code",
   "execution_count": 18,
   "id": "86e4ff08-a4a1-44af-9120-15536e046646",
   "metadata": {
    "canvas": {
     "comments": [],
     "componentType": "CodeCell",
     "copiedOriginId": null,
     "diskcache": false,
     "headerColor": "transparent",
     "id": "b95c8894-056f-4b6b-85bd-1cc7bfb2781e",
     "isComponent": false,
     "name": "",
     "parents": []
    },
    "tags": []
   },
   "outputs": [],
   "source": [
    "fp = \"../../data/retail_q1_post_EDA.parquet\"\n",
    "df.to_parquet(fp, index=False)"
   ]
  },
  {
   "cell_type": "markdown",
   "id": "57fa7ee2-1faf-4779-bb76-fa7fe879a96c",
   "metadata": {},
   "source": [
    "## KMDS Logging of EDA Observations"
   ]
  },
  {
   "cell_type": "code",
   "execution_count": 19,
   "id": "4d390fcf-7d58-4ed6-8046-2f1eb7a82cfb",
   "metadata": {
    "canvas": {
     "comments": [],
     "componentType": "CodeCell",
     "copiedOriginId": null,
     "diskcache": false,
     "headerColor": "transparent",
     "id": "0846b59d-b457-4f10-a720-7ccfdaacc6b9",
     "isComponent": false,
     "name": "",
     "parents": []
    }
   },
   "outputs": [],
   "source": [
    "from ontology.kmds_ontology import *\n",
    "from tagging.tag_types import ExploratoryTags"
   ]
  },
  {
   "cell_type": "code",
   "execution_count": 20,
   "id": "9f9e53e8-600e-46e4-a9e9-18d81b4ac8e3",
   "metadata": {},
   "outputs": [],
   "source": [
    "kaw = KnowledgeExtractionExperimentationWorkflow(\"retail_customer_modelling\")"
   ]
  },
  {
   "cell_type": "code",
   "execution_count": 21,
   "id": "aa65f75b-0dd4-436a-b93f-be355228d227",
   "metadata": {},
   "outputs": [],
   "source": [
    "exp_obs_list = []\n",
    "observation_count = 1\n",
    "e1 = ExploratoryObservation()"
   ]
  },
  {
   "cell_type": "code",
   "execution_count": 22,
   "id": "efdbe9a1-5abc-447c-a172-058ca48d575e",
   "metadata": {},
   "outputs": [],
   "source": [
    "e1.finding = \"Quantity, Price and Customer ID attributes have mixed types\"\n",
    "e1.finding_seq = observation_count\n",
    "e1.exploratory_observation_type = ExploratoryTags.DATA_QUALITY_OBSERVATION.value\n",
    "exp_obs_list.append(e1)"
   ]
  },
  {
   "cell_type": "code",
   "execution_count": 23,
   "id": "8bb1c37d-b709-4994-9d88-049ccb47d71f",
   "metadata": {},
   "outputs": [],
   "source": [
    "observation_count += 1"
   ]
  },
  {
   "cell_type": "code",
   "execution_count": 24,
   "id": "084ad1b4-9016-4436-b2fe-88264b02a3ea",
   "metadata": {},
   "outputs": [],
   "source": [
    "e2 = ExploratoryObservation()\n",
    "e2.finding = \"Customer ID, Description and Stock Code have null values\"\n",
    "e2.finding_seq = observation_count\n",
    "e2.exploratory_observation_type = ExploratoryTags.DATA_QUALITY_OBSERVATION.value\n",
    "exp_obs_list.append(e2)"
   ]
  },
  {
   "cell_type": "code",
   "execution_count": 25,
   "id": "359cd502-5e50-440f-ac09-0c48b747e317",
   "metadata": {},
   "outputs": [],
   "source": [
    "observation_count += 1\n",
    "e3 = ExploratoryObservation()\n",
    "e3.finding = \"Some Quantities are not numbers\"\n",
    "e3.finding_seq = observation_count\n",
    "e3.exploratory_observation_type = ExploratoryTags.DATA_QUALITY_OBSERVATION.value\n",
    "exp_obs_list.append(e3)"
   ]
  },
  {
   "cell_type": "code",
   "execution_count": 26,
   "id": "079195bc-bc47-49e5-b4aa-be585323e5be",
   "metadata": {},
   "outputs": [],
   "source": [
    "observation_count += 1\n",
    "e4 = ExploratoryObservation()\n",
    "e4.finding = \"Some Prices are not numbers, these correspond to transactions that are some kind of adjustment - like returns, or,\\\n",
    "denoting some kind of payment adjustment. \"\n",
    "e4.finding_seq = observation_count\n",
    "e4.exploratory_observation_type = ExploratoryTags.DATA_QUALITY_OBSERVATION.value\n",
    "exp_obs_list.append(e4)"
   ]
  },
  {
   "cell_type": "code",
   "execution_count": 27,
   "id": "99d496a5-ea47-455e-a167-817ea5521b2d",
   "metadata": {},
   "outputs": [],
   "source": [
    "observation_count += 1\n",
    "e5 = ExploratoryObservation()\n",
    "e5.finding = \"Some products are not valid products. For example, some of these products seem to be created by software testers \"\n",
    "e5.finding_seq = observation_count\n",
    "e5.exploratory_observation_type = ExploratoryTags.DATA_QUALITY_OBSERVATION.value\n",
    "exp_obs_list.append(e5)"
   ]
  },
  {
   "cell_type": "code",
   "execution_count": 28,
   "id": "750bd734-c15d-4560-bfec-8cb0a25b7220",
   "metadata": {},
   "outputs": [],
   "source": [
    "observation_count += 1\n",
    "e6 = ExploratoryObservation()\n",
    "e6.finding = \"For this task, the period considered is first quarter of 2010, other data are not relevant for this report \"\n",
    "e6.finding_seq = observation_count\n",
    "e6.exploratory_observation_type = ExploratoryTags.RELEVANCE_OBSERVATION.value\n",
    "exp_obs_list.append(e6)"
   ]
  },
  {
   "cell_type": "code",
   "execution_count": 29,
   "id": "d8e746d8-1df6-4e67-88cd-d5b2bd5893c5",
   "metadata": {},
   "outputs": [],
   "source": [
    "kaw.has_exploratory_observations = exp_obs_list"
   ]
  },
  {
   "cell_type": "code",
   "execution_count": 30,
   "id": "1e6927a3-8977-4519-a0f0-c44ca982f8eb",
   "metadata": {},
   "outputs": [],
   "source": [
    "from owlready2 import *\n",
    "from utils.path_utils import get_kb_file_path\n",
    "onto = get_ontology(get_ontology_path()).load()\n",
    "onto.save(file=get_kb_file_path(file_name=\"example_ml_kb_exp_workflow\"), format=\"rdfxml\")"
   ]
  },
  {
   "cell_type": "code",
   "execution_count": null,
   "id": "58d02b86-b8f9-4549-b642-b3f625ed8c83",
   "metadata": {},
   "outputs": [],
   "source": []
  }
 ],
 "metadata": {
  "canvas": {
   "colorPalette": [
    "inherit",
    "inherit",
    "inherit",
    "inherit",
    "inherit",
    "inherit",
    "inherit",
    "inherit",
    "inherit",
    "inherit"
   ],
   "parameters": [],
   "version": "1.0"
  },
  "kernelspec": {
   "display_name": "Python 3 (ipykernel)",
   "language": "python",
   "name": "python3"
  },
  "language_info": {
   "codemirror_mode": {
    "name": "ipython",
    "version": 3
   },
   "file_extension": ".py",
   "mimetype": "text/x-python",
   "name": "python",
   "nbconvert_exporter": "python",
   "pygments_lexer": "ipython3",
   "version": "3.11.7"
  }
 },
 "nbformat": 4,
 "nbformat_minor": 5
}
