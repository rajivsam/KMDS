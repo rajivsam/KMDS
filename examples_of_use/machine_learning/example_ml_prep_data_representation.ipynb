{
 "cells": [
  {
   "cell_type": "markdown",
   "id": "ec8b1777-c625-4197-ac5e-94dbb7a62ac5",
   "metadata": {},
   "source": [
    "## Read Data"
   ]
  },
  {
   "cell_type": "code",
   "execution_count": 1,
   "id": "85ee8126",
   "metadata": {
    "canvas": {
     "comments": [],
     "componentType": "CodeCell",
     "copiedOriginId": null,
     "diskcache": false,
     "headerColor": "transparent",
     "id": "9b19758f-15c9-4d44-b09f-a1274ea8e1a4",
     "isComponent": false,
     "name": "",
     "parents": []
    },
    "tags": []
   },
   "outputs": [],
   "source": [
    "import pandas as pd\n",
    "fp = \"../../data/online_retail_Q1_2010.parquet\"\n",
    "df = pd.read_parquet(fp)"
   ]
  },
  {
   "cell_type": "code",
   "execution_count": 2,
   "id": "162825ef-afa0-4485-97c2-66dd3f018f3c",
   "metadata": {},
   "outputs": [
    {
     "data": {
      "text/html": [
       "<div>\n",
       "<style scoped>\n",
       "    .dataframe tbody tr th:only-of-type {\n",
       "        vertical-align: middle;\n",
       "    }\n",
       "\n",
       "    .dataframe tbody tr th {\n",
       "        vertical-align: top;\n",
       "    }\n",
       "\n",
       "    .dataframe thead th {\n",
       "        text-align: right;\n",
       "    }\n",
       "</style>\n",
       "<table border=\"1\" class=\"dataframe\">\n",
       "  <thead>\n",
       "    <tr style=\"text-align: right;\">\n",
       "      <th></th>\n",
       "      <th>Invoice</th>\n",
       "      <th>StockCode</th>\n",
       "      <th>Description</th>\n",
       "      <th>Quantity</th>\n",
       "      <th>InvoiceDate</th>\n",
       "      <th>Price</th>\n",
       "      <th>Customer ID</th>\n",
       "      <th>Country</th>\n",
       "    </tr>\n",
       "  </thead>\n",
       "  <tbody>\n",
       "    <tr>\n",
       "      <th>43635</th>\n",
       "      <td>497795</td>\n",
       "      <td>84993B</td>\n",
       "      <td>75 BLACK PETIT FOUR CASES</td>\n",
       "      <td>24</td>\n",
       "      <td>2010-02-12 12:51:00</td>\n",
       "      <td>0.42</td>\n",
       "      <td>16954.0</td>\n",
       "      <td>United Kingdom</td>\n",
       "    </tr>\n",
       "    <tr>\n",
       "      <th>99045</th>\n",
       "      <td>503148</td>\n",
       "      <td>21246</td>\n",
       "      <td>RED SPOTTY BIG BOWL</td>\n",
       "      <td>6</td>\n",
       "      <td>2010-03-30 12:17:00</td>\n",
       "      <td>4.95</td>\n",
       "      <td>15715.0</td>\n",
       "      <td>United Kingdom</td>\n",
       "    </tr>\n",
       "    <tr>\n",
       "      <th>25823</th>\n",
       "      <td>C495767</td>\n",
       "      <td>ADJUST</td>\n",
       "      <td>Adjustment by john on 26/01/2010 16</td>\n",
       "      <td>-1</td>\n",
       "      <td>2010-01-26 16:39:00</td>\n",
       "      <td>50.76</td>\n",
       "      <td>12696.0</td>\n",
       "      <td>Finland</td>\n",
       "    </tr>\n",
       "    <tr>\n",
       "      <th>79647</th>\n",
       "      <td>501306</td>\n",
       "      <td>22281</td>\n",
       "      <td>EASTER TREE YELLOW BIRDS</td>\n",
       "      <td>2</td>\n",
       "      <td>2010-03-15 17:29:00</td>\n",
       "      <td>12.72</td>\n",
       "      <td>NaN</td>\n",
       "      <td>United Kingdom</td>\n",
       "    </tr>\n",
       "    <tr>\n",
       "      <th>56835</th>\n",
       "      <td>499073</td>\n",
       "      <td>21380</td>\n",
       "      <td>WOODEN HAPPY BIRTHDAY GARLAND</td>\n",
       "      <td>1</td>\n",
       "      <td>2010-02-24 15:23:00</td>\n",
       "      <td>5.91</td>\n",
       "      <td>NaN</td>\n",
       "      <td>United Kingdom</td>\n",
       "    </tr>\n",
       "  </tbody>\n",
       "</table>\n",
       "</div>"
      ],
      "text/plain": [
       "       Invoice StockCode                          Description  Quantity  \\\n",
       "43635   497795    84993B            75 BLACK PETIT FOUR CASES        24   \n",
       "99045   503148     21246                  RED SPOTTY BIG BOWL         6   \n",
       "25823  C495767    ADJUST  Adjustment by john on 26/01/2010 16        -1   \n",
       "79647   501306     22281             EASTER TREE YELLOW BIRDS         2   \n",
       "56835   499073     21380        WOODEN HAPPY BIRTHDAY GARLAND         1   \n",
       "\n",
       "              InvoiceDate  Price  Customer ID         Country  \n",
       "43635 2010-02-12 12:51:00   0.42      16954.0  United Kingdom  \n",
       "99045 2010-03-30 12:17:00   4.95      15715.0  United Kingdom  \n",
       "25823 2010-01-26 16:39:00  50.76      12696.0         Finland  \n",
       "79647 2010-03-15 17:29:00  12.72          NaN  United Kingdom  \n",
       "56835 2010-02-24 15:23:00   5.91          NaN  United Kingdom  "
      ]
     },
     "execution_count": 2,
     "metadata": {},
     "output_type": "execute_result"
    }
   ],
   "source": [
    "df.sample(n=5)"
   ]
  },
  {
   "cell_type": "code",
   "execution_count": 3,
   "id": "3c0d1b58-4c3e-4ded-baf3-8cffd05137c6",
   "metadata": {},
   "outputs": [],
   "source": [
    "def valid_date_time(x):\n",
    "    try:\n",
    "        pd.to_datetime(x)\n",
    "        return True\n",
    "    except Exception as e:\n",
    "        return False\n",
    "valid_datetime = df[\"InvoiceDate\"].apply(valid_date_time)"
   ]
  },
  {
   "cell_type": "code",
   "execution_count": 4,
   "id": "959dd660-5ce4-4de3-8067-3535eb7dd4fe",
   "metadata": {},
   "outputs": [],
   "source": [
    "df = df[valid_datetime]"
   ]
  },
  {
   "cell_type": "code",
   "execution_count": 5,
   "id": "08eea36e-7a5f-4a49-8eb3-e9c409decc45",
   "metadata": {},
   "outputs": [],
   "source": [
    "df[\"InvoiceDate\"] = pd.to_datetime(df[\"InvoiceDate\"])"
   ]
  },
  {
   "cell_type": "markdown",
   "id": "ee5669dc-8c39-4939-929b-cf4e46d44043",
   "metadata": {},
   "source": [
    "## Identify the columns with mixed types"
   ]
  },
  {
   "cell_type": "code",
   "execution_count": 6,
   "id": "d4b49d01-46ce-4330-9f57-3b93801a562f",
   "metadata": {},
   "outputs": [
    {
     "data": {
      "text/plain": [
       "['Quantity', 'Price', 'Customer ID']"
      ]
     },
     "execution_count": 6,
     "metadata": {},
     "output_type": "execute_result"
    }
   ],
   "source": [
    "cols = df.columns.tolist()\n",
    "[cols[i] for i in [3,5,6]]"
   ]
  },
  {
   "cell_type": "markdown",
   "id": "96ca47be-ccfe-4614-bbab-2d91f4fbb758",
   "metadata": {},
   "source": [
    "## Noise Filter #1 Definition"
   ]
  },
  {
   "cell_type": "code",
   "execution_count": 7,
   "id": "dc1b4b72",
   "metadata": {
    "canvas": {
     "comments": [],
     "componentType": "CodeCell",
     "copiedOriginId": null,
     "diskcache": false,
     "headerColor": "transparent",
     "id": "a28d465b-6a9a-4deb-b3e8-80ba52c471fe",
     "isComponent": false,
     "name": "",
     "parents": []
    },
    "tags": []
   },
   "outputs": [],
   "source": [
    "valid_cust = ~df[\"Customer ID\"].isna()\n",
    "valid_desc = ~df[\"Description\"].isna()\n",
    "valid_stock_code = ~df[\"Description\"].isna()"
   ]
  },
  {
   "cell_type": "markdown",
   "id": "1a4b73e9-305f-4488-9d9f-ff8e573c4135",
   "metadata": {},
   "source": [
    "## Apply Noise Filter # 1"
   ]
  },
  {
   "cell_type": "code",
   "execution_count": 8,
   "id": "ca0bceb2",
   "metadata": {
    "canvas": {
     "comments": [],
     "componentType": "CodeCell",
     "copiedOriginId": null,
     "diskcache": false,
     "headerColor": "transparent",
     "id": "416d12e2-7723-4363-9954-6670c0bedc9f",
     "isComponent": false,
     "name": "",
     "parents": []
    },
    "tags": []
   },
   "outputs": [],
   "source": [
    "noise_filter_1 = valid_cust & valid_desc\n",
    "df = df[noise_filter_1].reset_index(drop=True)"
   ]
  },
  {
   "cell_type": "markdown",
   "id": "01719bc7-e33d-483b-a9f0-311d9e15d0a2",
   "metadata": {},
   "source": [
    "## Noise Filter #2 Definition"
   ]
  },
  {
   "cell_type": "code",
   "execution_count": 9,
   "id": "932e99d1-aeb1-4ff3-b201-340048327205",
   "metadata": {
    "canvas": {
     "comments": [],
     "componentType": "CodeCell",
     "copiedOriginId": null,
     "diskcache": false,
     "headerColor": "transparent",
     "id": "346108a0-beaa-4af1-a6a3-68127d65bb02",
     "isComponent": false,
     "name": "",
     "parents": []
    },
    "tags": []
   },
   "outputs": [],
   "source": [
    "def good_quantity_record_check(x):\n",
    "    try:\n",
    "        f_x = float(x)\n",
    "        if f_x > 0:\n",
    "            return True\n",
    "        else:\n",
    "            return False # returned purchase\n",
    "    except :\n",
    "        return False\n"
   ]
  },
  {
   "cell_type": "markdown",
   "id": "9cf3f737-ce50-449f-ba8c-ea46aada86a3",
   "metadata": {},
   "source": [
    "## Apply Noise Filter #2"
   ]
  },
  {
   "cell_type": "code",
   "execution_count": 10,
   "id": "8f57b8a3-d9cc-4e56-a539-2de650a2116d",
   "metadata": {
    "canvas": {
     "comments": [],
     "componentType": "CodeCell",
     "copiedOriginId": null,
     "diskcache": false,
     "headerColor": "transparent",
     "id": "a0e3b8ed-e1ec-421f-a8b6-6e0acc143e46",
     "isComponent": false,
     "name": "",
     "parents": []
    },
    "tags": []
   },
   "outputs": [],
   "source": [
    "good_quantity_records = df[\"Quantity\"].apply(good_quantity_record_check)\n",
    "df = df[good_quantity_records]\n",
    "df = df.reset_index(drop=True)"
   ]
  },
  {
   "cell_type": "markdown",
   "id": "9e73a497-b50f-498c-b798-9784840c36c5",
   "metadata": {},
   "source": [
    "## Noise Filter #3 Definition"
   ]
  },
  {
   "cell_type": "code",
   "execution_count": 11,
   "id": "4e5e52b1-f010-44f6-8748-adb470fb7c15",
   "metadata": {
    "canvas": {
     "comments": [],
     "componentType": "CodeCell",
     "copiedOriginId": null,
     "diskcache": false,
     "headerColor": "transparent",
     "id": "692220ee-ff53-430e-a896-a50741b417dc",
     "isComponent": false,
     "name": "",
     "parents": []
    },
    "tags": []
   },
   "outputs": [],
   "source": [
    "return_or_bank_charges = (df.Price == \"BANK CHARGES\") | (df.Price == \"ADJUST\")\n",
    "valid_purchases = ~ return_or_bank_charges"
   ]
  },
  {
   "cell_type": "markdown",
   "id": "3b4426e6-9884-4e5c-99b5-a62cd5cfbc88",
   "metadata": {},
   "source": [
    "## Apply Noise Filter #3"
   ]
  },
  {
   "cell_type": "code",
   "execution_count": 12,
   "id": "2694127b",
   "metadata": {
    "canvas": {
     "comments": [],
     "componentType": "CodeCell",
     "copiedOriginId": null,
     "diskcache": false,
     "headerColor": "transparent",
     "id": "0295c30e-ca12-49b8-bc22-db0a143a75ea",
     "isComponent": false,
     "name": "",
     "parents": []
    },
    "tags": []
   },
   "outputs": [],
   "source": [
    "df = df[valid_purchases]\n",
    "df = df.reset_index(drop=True)"
   ]
  },
  {
   "cell_type": "markdown",
   "id": "549cbf37-8641-4d75-a6ef-9c626778a545",
   "metadata": {},
   "source": [
    "## Noise Filter #4 Definition"
   ]
  },
  {
   "cell_type": "code",
   "execution_count": 13,
   "id": "489c1ec9-abae-4162-87a8-cd79f7af20fa",
   "metadata": {
    "canvas": {
     "comments": [],
     "componentType": "CodeCell",
     "copiedOriginId": null,
     "diskcache": false,
     "headerColor": "transparent",
     "id": "b8d7fa16-6500-4d84-b117-694385e03b30",
     "isComponent": false,
     "name": "",
     "parents": []
    },
    "tags": []
   },
   "outputs": [],
   "source": [
    "def not_test_product(x):\n",
    "    if \"TEST\" in x:\n",
    "        return False\n",
    "    elif x in [\"ADJUST\", \"BANK CHARGES\", \"C2\", \"M\"]:\n",
    "        return False\n",
    "    else:\n",
    "        return True"
   ]
  },
  {
   "cell_type": "markdown",
   "id": "1d887dfc-6d3c-4f81-91d2-7f843fb4ed53",
   "metadata": {},
   "source": [
    "## Apply Noise Filter #4"
   ]
  },
  {
   "cell_type": "code",
   "execution_count": 14,
   "id": "0f72973b-78e7-434d-b761-ea29dbede209",
   "metadata": {
    "canvas": {
     "comments": [],
     "componentType": "CodeCell",
     "copiedOriginId": null,
     "diskcache": false,
     "headerColor": "transparent",
     "id": "7d6db198-4ca2-426f-b994-b2cd35701acc",
     "isComponent": false,
     "name": "",
     "parents": []
    },
    "tags": []
   },
   "outputs": [],
   "source": [
    "valid_products = df[\"StockCode\"].apply(not_test_product)\n",
    "df = df[valid_products]\n",
    "df = df.reset_index(drop=True)"
   ]
  },
  {
   "cell_type": "code",
   "execution_count": 15,
   "id": "a319abed-d68d-44f1-aece-07bb1a97fcbb",
   "metadata": {},
   "outputs": [
    {
     "data": {
      "text/plain": [
       "['Invoice',\n",
       " 'StockCode',\n",
       " 'Description',\n",
       " 'Quantity',\n",
       " 'InvoiceDate',\n",
       " 'Price',\n",
       " 'Customer ID',\n",
       " 'Country']"
      ]
     },
     "execution_count": 15,
     "metadata": {},
     "output_type": "execute_result"
    }
   ],
   "source": [
    "cols"
   ]
  },
  {
   "cell_type": "markdown",
   "id": "e8ba1cb0-1797-4a45-82f4-44ed02017b51",
   "metadata": {},
   "source": [
    "## Define Noise Filter #5"
   ]
  },
  {
   "cell_type": "code",
   "execution_count": 16,
   "id": "83f89a4b",
   "metadata": {
    "canvas": {
     "comments": [],
     "componentType": "CodeCell",
     "copiedOriginId": null,
     "diskcache": false,
     "headerColor": "transparent",
     "id": "e1cbd901-b8a2-4d5d-8c78-6ba865edaf47",
     "isComponent": false,
     "name": "",
     "parents": []
    },
    "tags": []
   },
   "outputs": [],
   "source": [
    "\n",
    "attr_types = {\"Invoice\": str, \"StockCode\": str, \"Description\": str,\\\n",
    "             \"Quantity\": float, \"InvoiceDate\": 'datetime64[ns]', \"Price\": float,\\\n",
    "             \"Customer ID\": str, \"Country\": str}\n",
    "df = df.astype(attr_types)\n",
    "Q1_2010 = (df[\"InvoiceDate\"].dt.year == 2010) & (df[\"InvoiceDate\"].dt.quarter == 1)"
   ]
  },
  {
   "cell_type": "markdown",
   "id": "0e9b4c04-32d4-4d0f-bcc4-b6f5063440d3",
   "metadata": {},
   "source": [
    "## Apply Noise Filter #5"
   ]
  },
  {
   "cell_type": "code",
   "execution_count": 17,
   "id": "3c04d6eb",
   "metadata": {
    "canvas": {
     "comments": [],
     "componentType": "CodeCell",
     "copiedOriginId": null,
     "diskcache": false,
     "headerColor": "transparent",
     "id": "773f5879-9140-44c8-9e4a-7fc24f74cd27",
     "isComponent": false,
     "name": "",
     "parents": []
    },
    "tags": []
   },
   "outputs": [],
   "source": [
    "df = df[Q1_2010]\n",
    "df = df.reset_index(drop=True)"
   ]
  },
  {
   "cell_type": "markdown",
   "id": "9b4e8f96-29b2-4d36-98f8-e64a413000f3",
   "metadata": {},
   "source": [
    "## Transformation Definition"
   ]
  },
  {
   "cell_type": "code",
   "execution_count": 18,
   "id": "6ac6dee8-e86f-41b2-bf57-2617af53b11d",
   "metadata": {
    "canvas": {
     "comments": [],
     "componentType": "CodeCell",
     "copiedOriginId": null,
     "diskcache": false,
     "headerColor": "transparent",
     "id": "4c613367-efb3-43b3-b7b2-59f0119ca6cf",
     "isComponent": false,
     "name": "",
     "parents": []
    },
    "tags": []
   },
   "outputs": [],
   "source": [
    "df[\"item_total\"] = df[\"Quantity\"] * df[\"Price\"]\n",
    "dsbysc = df.groupby([df.InvoiceDate.dt.day_of_year, df.StockCode])\n",
    "dsbysc = dsbysc[\"item_total\"].sum().to_frame().reset_index()\n",
    "dfQ1_PA = dsbysc.pivot(index=\"InvoiceDate\", columns=\"StockCode\", values=\"item_total\").fillna(0)"
   ]
  },
  {
   "cell_type": "markdown",
   "id": "b36df3f3-5ca3-48e1-a59e-1e994acec3d2",
   "metadata": {},
   "source": [
    "## Result"
   ]
  },
  {
   "cell_type": "code",
   "execution_count": 19,
   "id": "c4805fd2-4c1b-41a6-a42c-c0d866cff826",
   "metadata": {
    "canvas": {
     "comments": [],
     "componentType": "CodeCell",
     "copiedOriginId": null,
     "diskcache": false,
     "headerColor": "transparent",
     "id": "61673f27-f410-43fb-968c-35734a1d5baa",
     "isComponent": false,
     "name": "",
     "parents": []
    },
    "tags": []
   },
   "outputs": [
    {
     "data": {
      "text/html": [
       "<div>\n",
       "<style scoped>\n",
       "    .dataframe tbody tr th:only-of-type {\n",
       "        vertical-align: middle;\n",
       "    }\n",
       "\n",
       "    .dataframe tbody tr th {\n",
       "        vertical-align: top;\n",
       "    }\n",
       "\n",
       "    .dataframe thead th {\n",
       "        text-align: right;\n",
       "    }\n",
       "</style>\n",
       "<table border=\"1\" class=\"dataframe\">\n",
       "  <thead>\n",
       "    <tr style=\"text-align: right;\">\n",
       "      <th>StockCode</th>\n",
       "      <th>10002</th>\n",
       "      <th>10120</th>\n",
       "      <th>10123C</th>\n",
       "      <th>10124A</th>\n",
       "      <th>10125</th>\n",
       "      <th>10133</th>\n",
       "      <th>10134</th>\n",
       "      <th>10135</th>\n",
       "      <th>10138</th>\n",
       "      <th>11001</th>\n",
       "      <th>...</th>\n",
       "      <th>90214L</th>\n",
       "      <th>90214M</th>\n",
       "      <th>90214N</th>\n",
       "      <th>90214O</th>\n",
       "      <th>90214P</th>\n",
       "      <th>90214R</th>\n",
       "      <th>90214S</th>\n",
       "      <th>90214V</th>\n",
       "      <th>PADS</th>\n",
       "      <th>POST</th>\n",
       "    </tr>\n",
       "    <tr>\n",
       "      <th>InvoiceDate</th>\n",
       "      <th></th>\n",
       "      <th></th>\n",
       "      <th></th>\n",
       "      <th></th>\n",
       "      <th></th>\n",
       "      <th></th>\n",
       "      <th></th>\n",
       "      <th></th>\n",
       "      <th></th>\n",
       "      <th></th>\n",
       "      <th></th>\n",
       "      <th></th>\n",
       "      <th></th>\n",
       "      <th></th>\n",
       "      <th></th>\n",
       "      <th></th>\n",
       "      <th></th>\n",
       "      <th></th>\n",
       "      <th></th>\n",
       "      <th></th>\n",
       "      <th></th>\n",
       "    </tr>\n",
       "  </thead>\n",
       "  <tbody>\n",
       "    <tr>\n",
       "      <th>4</th>\n",
       "      <td>2.55</td>\n",
       "      <td>6.3</td>\n",
       "      <td>0.0</td>\n",
       "      <td>0.0</td>\n",
       "      <td>0.0</td>\n",
       "      <td>0.00</td>\n",
       "      <td>0.00</td>\n",
       "      <td>1.25</td>\n",
       "      <td>0.00</td>\n",
       "      <td>0.00</td>\n",
       "      <td>...</td>\n",
       "      <td>0.0</td>\n",
       "      <td>0.0</td>\n",
       "      <td>2.5</td>\n",
       "      <td>0.0</td>\n",
       "      <td>0.00</td>\n",
       "      <td>0.0</td>\n",
       "      <td>1.25</td>\n",
       "      <td>0.0</td>\n",
       "      <td>0.0</td>\n",
       "      <td>0.0</td>\n",
       "    </tr>\n",
       "    <tr>\n",
       "      <th>5</th>\n",
       "      <td>0.00</td>\n",
       "      <td>0.0</td>\n",
       "      <td>0.0</td>\n",
       "      <td>0.0</td>\n",
       "      <td>0.0</td>\n",
       "      <td>0.00</td>\n",
       "      <td>0.00</td>\n",
       "      <td>12.50</td>\n",
       "      <td>0.00</td>\n",
       "      <td>3.38</td>\n",
       "      <td>...</td>\n",
       "      <td>0.0</td>\n",
       "      <td>0.0</td>\n",
       "      <td>0.0</td>\n",
       "      <td>0.0</td>\n",
       "      <td>0.00</td>\n",
       "      <td>0.0</td>\n",
       "      <td>0.00</td>\n",
       "      <td>0.0</td>\n",
       "      <td>0.0</td>\n",
       "      <td>0.0</td>\n",
       "    </tr>\n",
       "    <tr>\n",
       "      <th>6</th>\n",
       "      <td>0.00</td>\n",
       "      <td>0.0</td>\n",
       "      <td>0.0</td>\n",
       "      <td>0.0</td>\n",
       "      <td>0.0</td>\n",
       "      <td>0.00</td>\n",
       "      <td>0.00</td>\n",
       "      <td>0.00</td>\n",
       "      <td>0.00</td>\n",
       "      <td>0.00</td>\n",
       "      <td>...</td>\n",
       "      <td>0.0</td>\n",
       "      <td>0.0</td>\n",
       "      <td>0.0</td>\n",
       "      <td>0.0</td>\n",
       "      <td>0.00</td>\n",
       "      <td>0.0</td>\n",
       "      <td>0.00</td>\n",
       "      <td>0.0</td>\n",
       "      <td>0.0</td>\n",
       "      <td>0.0</td>\n",
       "    </tr>\n",
       "    <tr>\n",
       "      <th>7</th>\n",
       "      <td>0.00</td>\n",
       "      <td>0.0</td>\n",
       "      <td>0.0</td>\n",
       "      <td>0.0</td>\n",
       "      <td>0.0</td>\n",
       "      <td>108.00</td>\n",
       "      <td>212.00</td>\n",
       "      <td>0.00</td>\n",
       "      <td>0.00</td>\n",
       "      <td>27.04</td>\n",
       "      <td>...</td>\n",
       "      <td>0.0</td>\n",
       "      <td>0.0</td>\n",
       "      <td>0.0</td>\n",
       "      <td>0.0</td>\n",
       "      <td>0.00</td>\n",
       "      <td>0.0</td>\n",
       "      <td>0.00</td>\n",
       "      <td>0.0</td>\n",
       "      <td>0.0</td>\n",
       "      <td>19.0</td>\n",
       "    </tr>\n",
       "    <tr>\n",
       "      <th>8</th>\n",
       "      <td>10.20</td>\n",
       "      <td>0.0</td>\n",
       "      <td>0.0</td>\n",
       "      <td>0.0</td>\n",
       "      <td>0.0</td>\n",
       "      <td>0.00</td>\n",
       "      <td>0.00</td>\n",
       "      <td>0.00</td>\n",
       "      <td>0.00</td>\n",
       "      <td>0.00</td>\n",
       "      <td>...</td>\n",
       "      <td>0.0</td>\n",
       "      <td>0.0</td>\n",
       "      <td>0.0</td>\n",
       "      <td>0.0</td>\n",
       "      <td>0.00</td>\n",
       "      <td>0.0</td>\n",
       "      <td>0.00</td>\n",
       "      <td>0.0</td>\n",
       "      <td>0.0</td>\n",
       "      <td>477.0</td>\n",
       "    </tr>\n",
       "    <tr>\n",
       "      <th>...</th>\n",
       "      <td>...</td>\n",
       "      <td>...</td>\n",
       "      <td>...</td>\n",
       "      <td>...</td>\n",
       "      <td>...</td>\n",
       "      <td>...</td>\n",
       "      <td>...</td>\n",
       "      <td>...</td>\n",
       "      <td>...</td>\n",
       "      <td>...</td>\n",
       "      <td>...</td>\n",
       "      <td>...</td>\n",
       "      <td>...</td>\n",
       "      <td>...</td>\n",
       "      <td>...</td>\n",
       "      <td>...</td>\n",
       "      <td>...</td>\n",
       "      <td>...</td>\n",
       "      <td>...</td>\n",
       "      <td>...</td>\n",
       "      <td>...</td>\n",
       "    </tr>\n",
       "    <tr>\n",
       "      <th>85</th>\n",
       "      <td>11.05</td>\n",
       "      <td>0.0</td>\n",
       "      <td>0.0</td>\n",
       "      <td>0.0</td>\n",
       "      <td>0.0</td>\n",
       "      <td>0.00</td>\n",
       "      <td>0.00</td>\n",
       "      <td>25.00</td>\n",
       "      <td>0.00</td>\n",
       "      <td>0.00</td>\n",
       "      <td>...</td>\n",
       "      <td>0.0</td>\n",
       "      <td>0.0</td>\n",
       "      <td>0.0</td>\n",
       "      <td>0.0</td>\n",
       "      <td>0.00</td>\n",
       "      <td>0.0</td>\n",
       "      <td>0.00</td>\n",
       "      <td>0.0</td>\n",
       "      <td>0.0</td>\n",
       "      <td>15.0</td>\n",
       "    </tr>\n",
       "    <tr>\n",
       "      <th>87</th>\n",
       "      <td>0.00</td>\n",
       "      <td>0.0</td>\n",
       "      <td>0.0</td>\n",
       "      <td>0.0</td>\n",
       "      <td>5.1</td>\n",
       "      <td>0.85</td>\n",
       "      <td>1.25</td>\n",
       "      <td>0.00</td>\n",
       "      <td>0.00</td>\n",
       "      <td>0.00</td>\n",
       "      <td>...</td>\n",
       "      <td>0.0</td>\n",
       "      <td>0.0</td>\n",
       "      <td>0.0</td>\n",
       "      <td>0.0</td>\n",
       "      <td>0.00</td>\n",
       "      <td>0.0</td>\n",
       "      <td>0.00</td>\n",
       "      <td>0.0</td>\n",
       "      <td>0.0</td>\n",
       "      <td>0.0</td>\n",
       "    </tr>\n",
       "    <tr>\n",
       "      <th>88</th>\n",
       "      <td>0.00</td>\n",
       "      <td>0.0</td>\n",
       "      <td>0.0</td>\n",
       "      <td>0.0</td>\n",
       "      <td>17.0</td>\n",
       "      <td>0.00</td>\n",
       "      <td>0.00</td>\n",
       "      <td>0.00</td>\n",
       "      <td>5.04</td>\n",
       "      <td>0.00</td>\n",
       "      <td>...</td>\n",
       "      <td>0.0</td>\n",
       "      <td>0.0</td>\n",
       "      <td>0.0</td>\n",
       "      <td>0.0</td>\n",
       "      <td>1.25</td>\n",
       "      <td>0.0</td>\n",
       "      <td>0.00</td>\n",
       "      <td>0.0</td>\n",
       "      <td>0.0</td>\n",
       "      <td>0.0</td>\n",
       "    </tr>\n",
       "    <tr>\n",
       "      <th>89</th>\n",
       "      <td>34.56</td>\n",
       "      <td>0.0</td>\n",
       "      <td>0.0</td>\n",
       "      <td>0.0</td>\n",
       "      <td>0.0</td>\n",
       "      <td>2.55</td>\n",
       "      <td>12.50</td>\n",
       "      <td>28.75</td>\n",
       "      <td>0.00</td>\n",
       "      <td>0.00</td>\n",
       "      <td>...</td>\n",
       "      <td>0.0</td>\n",
       "      <td>0.0</td>\n",
       "      <td>0.0</td>\n",
       "      <td>0.0</td>\n",
       "      <td>0.00</td>\n",
       "      <td>0.0</td>\n",
       "      <td>0.00</td>\n",
       "      <td>0.0</td>\n",
       "      <td>0.0</td>\n",
       "      <td>0.0</td>\n",
       "    </tr>\n",
       "    <tr>\n",
       "      <th>90</th>\n",
       "      <td>0.00</td>\n",
       "      <td>0.0</td>\n",
       "      <td>0.0</td>\n",
       "      <td>0.0</td>\n",
       "      <td>0.0</td>\n",
       "      <td>0.00</td>\n",
       "      <td>0.00</td>\n",
       "      <td>0.00</td>\n",
       "      <td>0.00</td>\n",
       "      <td>0.00</td>\n",
       "      <td>...</td>\n",
       "      <td>0.0</td>\n",
       "      <td>0.0</td>\n",
       "      <td>0.0</td>\n",
       "      <td>0.0</td>\n",
       "      <td>0.00</td>\n",
       "      <td>0.0</td>\n",
       "      <td>0.00</td>\n",
       "      <td>0.0</td>\n",
       "      <td>0.0</td>\n",
       "      <td>0.0</td>\n",
       "    </tr>\n",
       "  </tbody>\n",
       "</table>\n",
       "<p>75 rows × 3092 columns</p>\n",
       "</div>"
      ],
      "text/plain": [
       "StockCode    10002  10120  10123C  10124A  10125   10133   10134  10135  \\\n",
       "InvoiceDate                                                               \n",
       "4             2.55    6.3     0.0     0.0    0.0    0.00    0.00   1.25   \n",
       "5             0.00    0.0     0.0     0.0    0.0    0.00    0.00  12.50   \n",
       "6             0.00    0.0     0.0     0.0    0.0    0.00    0.00   0.00   \n",
       "7             0.00    0.0     0.0     0.0    0.0  108.00  212.00   0.00   \n",
       "8            10.20    0.0     0.0     0.0    0.0    0.00    0.00   0.00   \n",
       "...            ...    ...     ...     ...    ...     ...     ...    ...   \n",
       "85           11.05    0.0     0.0     0.0    0.0    0.00    0.00  25.00   \n",
       "87            0.00    0.0     0.0     0.0    5.1    0.85    1.25   0.00   \n",
       "88            0.00    0.0     0.0     0.0   17.0    0.00    0.00   0.00   \n",
       "89           34.56    0.0     0.0     0.0    0.0    2.55   12.50  28.75   \n",
       "90            0.00    0.0     0.0     0.0    0.0    0.00    0.00   0.00   \n",
       "\n",
       "StockCode    10138  11001  ...  90214L  90214M  90214N  90214O  90214P  \\\n",
       "InvoiceDate                ...                                           \n",
       "4             0.00   0.00  ...     0.0     0.0     2.5     0.0    0.00   \n",
       "5             0.00   3.38  ...     0.0     0.0     0.0     0.0    0.00   \n",
       "6             0.00   0.00  ...     0.0     0.0     0.0     0.0    0.00   \n",
       "7             0.00  27.04  ...     0.0     0.0     0.0     0.0    0.00   \n",
       "8             0.00   0.00  ...     0.0     0.0     0.0     0.0    0.00   \n",
       "...            ...    ...  ...     ...     ...     ...     ...     ...   \n",
       "85            0.00   0.00  ...     0.0     0.0     0.0     0.0    0.00   \n",
       "87            0.00   0.00  ...     0.0     0.0     0.0     0.0    0.00   \n",
       "88            5.04   0.00  ...     0.0     0.0     0.0     0.0    1.25   \n",
       "89            0.00   0.00  ...     0.0     0.0     0.0     0.0    0.00   \n",
       "90            0.00   0.00  ...     0.0     0.0     0.0     0.0    0.00   \n",
       "\n",
       "StockCode    90214R  90214S  90214V  PADS   POST  \n",
       "InvoiceDate                                       \n",
       "4               0.0    1.25     0.0   0.0    0.0  \n",
       "5               0.0    0.00     0.0   0.0    0.0  \n",
       "6               0.0    0.00     0.0   0.0    0.0  \n",
       "7               0.0    0.00     0.0   0.0   19.0  \n",
       "8               0.0    0.00     0.0   0.0  477.0  \n",
       "...             ...     ...     ...   ...    ...  \n",
       "85              0.0    0.00     0.0   0.0   15.0  \n",
       "87              0.0    0.00     0.0   0.0    0.0  \n",
       "88              0.0    0.00     0.0   0.0    0.0  \n",
       "89              0.0    0.00     0.0   0.0    0.0  \n",
       "90              0.0    0.00     0.0   0.0    0.0  \n",
       "\n",
       "[75 rows x 3092 columns]"
      ]
     },
     "execution_count": 19,
     "metadata": {},
     "output_type": "execute_result"
    }
   ],
   "source": [
    "dfQ1_PA"
   ]
  },
  {
   "cell_type": "markdown",
   "id": "1747ee25-d49c-47f4-b464-d71c219d97ca",
   "metadata": {},
   "source": [
    "## Save Prepared Data to Disk"
   ]
  },
  {
   "cell_type": "code",
   "execution_count": 20,
   "id": "86e4ff08-a4a1-44af-9120-15536e046646",
   "metadata": {
    "canvas": {
     "comments": [],
     "componentType": "CodeCell",
     "copiedOriginId": null,
     "diskcache": false,
     "headerColor": "transparent",
     "id": "b95c8894-056f-4b6b-85bd-1cc7bfb2781e",
     "isComponent": false,
     "name": "",
     "parents": []
    },
    "tags": []
   },
   "outputs": [],
   "source": [
    "fp = \"../../data/retail_q1_sales_2010_summary.parquet\"\n",
    "dfQ1_PA.to_parquet(fp, index=False)"
   ]
  },
  {
   "cell_type": "code",
   "execution_count": 21,
   "id": "4d390fcf-7d58-4ed6-8046-2f1eb7a82cfb",
   "metadata": {
    "canvas": {
     "comments": [],
     "componentType": "CodeCell",
     "copiedOriginId": null,
     "diskcache": false,
     "headerColor": "transparent",
     "id": "0846b59d-b457-4f10-a720-7ccfdaacc6b9",
     "isComponent": false,
     "name": "",
     "parents": []
    }
   },
   "outputs": [],
   "source": [
    "from ontology.kmds_ontology import *\n",
    "from tagging.tag_types import ExploratoryTags"
   ]
  },
  {
   "cell_type": "code",
   "execution_count": 22,
   "id": "9f9e53e8-600e-46e4-a9e9-18d81b4ac8e3",
   "metadata": {},
   "outputs": [],
   "source": [
    "kaw = KnowledgeApplicationWorkflow(\"retail_customer_modelling\")"
   ]
  },
  {
   "cell_type": "code",
   "execution_count": 23,
   "id": "aa65f75b-0dd4-436a-b93f-be355228d227",
   "metadata": {},
   "outputs": [],
   "source": [
    "observation_count = 1\n",
    "e1 = ExploratoryObservation()"
   ]
  },
  {
   "cell_type": "code",
   "execution_count": 24,
   "id": "efdbe9a1-5abc-447c-a172-058ca48d575e",
   "metadata": {},
   "outputs": [],
   "source": [
    "e1.finding = \"Quantity, Price and Customer ID attributes have mixed types\"\n",
    "e1.finding_seq = observation_count\n",
    "e1.exploratory_observation_type = ExploratoryTags.DATA_QUALITY_OBSERVATION.value"
   ]
  },
  {
   "cell_type": "code",
   "execution_count": 25,
   "id": "8bb1c37d-b709-4994-9d88-049ccb47d71f",
   "metadata": {},
   "outputs": [],
   "source": [
    "observation_count += 1"
   ]
  },
  {
   "cell_type": "code",
   "execution_count": 26,
   "id": "084ad1b4-9016-4436-b2fe-88264b02a3ea",
   "metadata": {},
   "outputs": [],
   "source": [
    "e2 = ExploratoryObservation()\n",
    "e2.finding = \"Customer ID, Description and Stock Code have null values\"\n",
    "e2.finding_seq = observation_count\n",
    "e2.exploratory_observation_type = ExploratoryTags.DATA_QUALITY_OBSERVATION.value"
   ]
  },
  {
   "cell_type": "code",
   "execution_count": 27,
   "id": "359cd502-5e50-440f-ac09-0c48b747e317",
   "metadata": {},
   "outputs": [],
   "source": [
    "observation_count += 1\n",
    "e3 = ExploratoryObservation()\n",
    "e3.finding = \"Some Quantities are not numbers\"\n",
    "e3.finding_seq = observation_count\n",
    "e3.exploratory_observation_type = ExploratoryTags.DATA_QUALITY_OBSERVATION.value"
   ]
  },
  {
   "cell_type": "code",
   "execution_count": 28,
   "id": "079195bc-bc47-49e5-b4aa-be585323e5be",
   "metadata": {},
   "outputs": [],
   "source": [
    "observation_count += 1\n",
    "e4 = ExploratoryObservation()\n",
    "e4.finding = \"Some Prices are not numbers, these correspond to transactions that are some kind of adjustment - like returns, or,\\\n",
    "denoting some kind of payment adjustment. \"\n",
    "e4.finding_seq = observation_count\n",
    "e4.exploratory_observation_type = ExploratoryTags.DATA_QUALITY_OBSERVATION.value"
   ]
  },
  {
   "cell_type": "code",
   "execution_count": 29,
   "id": "99d496a5-ea47-455e-a167-817ea5521b2d",
   "metadata": {},
   "outputs": [],
   "source": [
    "observation_count += 1\n",
    "e5 = ExploratoryObservation()\n",
    "e5.finding = \"Some products are not valid products. For example, some of these products seem to be created by software testers \"\n",
    "e5.finding_seq = observation_count\n",
    "e5.exploratory_observation_type = ExploratoryTags.DATA_QUALITY_OBSERVATION.value"
   ]
  },
  {
   "cell_type": "code",
   "execution_count": 30,
   "id": "750bd734-c15d-4560-bfec-8cb0a25b7220",
   "metadata": {},
   "outputs": [],
   "source": [
    "observation_count += 1\n",
    "e6 = ExploratoryObservation()\n",
    "e6.finding = \"For this task, the period considered is first quarter of 2010, other data are not relevant for this report \"\n",
    "e6.finding_seq = observation_count\n",
    "e6.exploratory_observation_type = ExploratoryTags.RELEVANCE_OBSERVATION.value"
   ]
  },
  {
   "cell_type": "code",
   "execution_count": null,
   "id": "1e6927a3-8977-4519-a0f0-c44ca982f8eb",
   "metadata": {},
   "outputs": [],
   "source": []
  }
 ],
 "metadata": {
  "canvas": {
   "colorPalette": [
    "inherit",
    "inherit",
    "inherit",
    "inherit",
    "inherit",
    "inherit",
    "inherit",
    "inherit",
    "inherit",
    "inherit"
   ],
   "parameters": [],
   "version": "1.0"
  },
  "kernelspec": {
   "display_name": "Python 3 (ipykernel)",
   "language": "python",
   "name": "python3"
  },
  "language_info": {
   "codemirror_mode": {
    "name": "ipython",
    "version": 3
   },
   "file_extension": ".py",
   "mimetype": "text/x-python",
   "name": "python",
   "nbconvert_exporter": "python",
   "pygments_lexer": "ipython3",
   "version": "3.11.7"
  }
 },
 "nbformat": 4,
 "nbformat_minor": 5
}
