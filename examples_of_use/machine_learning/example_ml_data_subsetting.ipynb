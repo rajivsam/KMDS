{
 "cells": [
  {
   "cell_type": "markdown",
   "id": "ec8b1777-c625-4197-ac5e-94dbb7a62ac5",
   "metadata": {},
   "source": [
    "## Notebook Summary\n",
    "The raw dataset for this example spans the transaction data for the years 2010 and 2011. For this example we only need the \n",
    "data for the first and the second quarter of 2010. This is done because the purpose of these example is to illustrate the use of a KMDS pipeline in a real world setting rather than a full fledged production ready implementation. Accordingly, the notebook reads the raw\n",
    "dataset, converts the invoice time to a date time field and subsets the transactions for Q1 and Q2 of 2010."
   ]
  },
  {
   "cell_type": "code",
   "execution_count": 1,
   "id": "85ee8126",
   "metadata": {
    "canvas": {
     "comments": [],
     "componentType": "CodeCell",
     "copiedOriginId": null,
     "diskcache": false,
     "headerColor": "transparent",
     "id": "9b19758f-15c9-4d44-b09f-a1274ea8e1a4",
     "isComponent": false,
     "name": "",
     "parents": []
    },
    "tags": []
   },
   "outputs": [
    {
     "name": "stderr",
     "output_type": "stream",
     "text": [
      "/var/folders/fb/t_m5qpcj6qq85rvkh73vbxh40000gn/T/ipykernel_29200/4177313966.py:3: DtypeWarning: Columns (3,5,6) have mixed types. Specify dtype option on import or set low_memory=False.\n",
      "  df = pd.read_csv(fp)\n"
     ]
    }
   ],
   "source": [
    "import pandas as pd\n",
    "fp = \"../../data/online_retail_II.csv\"\n",
    "df = pd.read_csv(fp)"
   ]
  },
  {
   "cell_type": "code",
   "execution_count": 2,
   "id": "162825ef-afa0-4485-97c2-66dd3f018f3c",
   "metadata": {},
   "outputs": [
    {
     "data": {
      "text/plain": [
       "Index(['Invoice', 'StockCode', 'Description', 'Quantity', 'InvoiceDate',\n",
       "       'Price', 'Customer ID', 'Country'],\n",
       "      dtype='object')"
      ]
     },
     "execution_count": 2,
     "metadata": {},
     "output_type": "execute_result"
    }
   ],
   "source": [
    "df.columns"
   ]
  },
  {
   "cell_type": "code",
   "execution_count": 3,
   "id": "3c0d1b58-4c3e-4ded-baf3-8cffd05137c6",
   "metadata": {},
   "outputs": [],
   "source": [
    "def valid_date_time(x):\n",
    "    try:\n",
    "        pd.to_datetime(x)\n",
    "        return True\n",
    "    except Exception as e:\n",
    "        return False\n",
    "valid_datetime = df[\"InvoiceDate\"].apply(valid_date_time)"
   ]
  },
  {
   "cell_type": "code",
   "execution_count": 4,
   "id": "959dd660-5ce4-4de3-8067-3535eb7dd4fe",
   "metadata": {},
   "outputs": [],
   "source": [
    "df = df[valid_datetime]"
   ]
  },
  {
   "cell_type": "code",
   "execution_count": 5,
   "id": "08eea36e-7a5f-4a49-8eb3-e9c409decc45",
   "metadata": {},
   "outputs": [
    {
     "name": "stderr",
     "output_type": "stream",
     "text": [
      "/var/folders/fb/t_m5qpcj6qq85rvkh73vbxh40000gn/T/ipykernel_29200/3012402086.py:1: UserWarning: Could not infer format, so each element will be parsed individually, falling back to `dateutil`. To ensure parsing is consistent and as-expected, please specify a format.\n",
      "  df[\"InvoiceDate\"] = pd.to_datetime(df[\"InvoiceDate\"])\n"
     ]
    }
   ],
   "source": [
    "df[\"InvoiceDate\"] = pd.to_datetime(df[\"InvoiceDate\"])"
   ]
  },
  {
   "cell_type": "code",
   "execution_count": 6,
   "id": "b36ffd7c-24c1-4885-9089-c2c3bfbc1aa8",
   "metadata": {},
   "outputs": [
    {
     "data": {
      "text/plain": [
       "0         2009-12-01 07:45:00\n",
       "1         2009-12-01 07:45:00\n",
       "2         2009-12-01 07:45:00\n",
       "3         2009-12-01 07:45:00\n",
       "4         2009-12-01 07:45:00\n",
       "                  ...        \n",
       "1067367   2011-12-09 12:50:00\n",
       "1067368   2011-12-09 12:50:00\n",
       "1067369   2011-12-09 12:50:00\n",
       "1067370   2011-12-09 12:50:00\n",
       "1067371   2011-12-09 12:50:00\n",
       "Name: InvoiceDate, Length: 1067371, dtype: datetime64[ns]"
      ]
     },
     "execution_count": 6,
     "metadata": {},
     "output_type": "execute_result"
    }
   ],
   "source": [
    "df[\"InvoiceDate\"]"
   ]
  },
  {
   "cell_type": "code",
   "execution_count": 7,
   "id": "92a883c5-b961-4901-bfa8-5bd844e237b6",
   "metadata": {},
   "outputs": [],
   "source": [
    "qrange1 = (df[\"InvoiceDate\"].dt.year == 2010) & ((df[\"InvoiceDate\"].dt.quarter == 1))"
   ]
  },
  {
   "cell_type": "code",
   "execution_count": 8,
   "id": "e53066df-f3a8-4f74-9d4e-84424deaedfe",
   "metadata": {},
   "outputs": [],
   "source": [
    "df1 = df[qrange1].copy()"
   ]
  },
  {
   "cell_type": "code",
   "execution_count": 9,
   "id": "65901fc2-a6d1-4bc5-ba38-895a63da7c31",
   "metadata": {},
   "outputs": [],
   "source": [
    "fp = \"../../data/online_retail_Q1_2010.parquet\"\n",
    "df1.to_parquet(fp, index=False)"
   ]
  },
  {
   "cell_type": "code",
   "execution_count": 10,
   "id": "b0c18624-7e3c-49c5-9fbc-f863f251e77f",
   "metadata": {},
   "outputs": [],
   "source": [
    "qrange2 = (df[\"InvoiceDate\"].dt.year == 2010) & ((df[\"InvoiceDate\"].dt.quarter == 2))"
   ]
  },
  {
   "cell_type": "code",
   "execution_count": 11,
   "id": "6698b20a-50a9-46c7-ac58-9f2a0b8387a7",
   "metadata": {},
   "outputs": [],
   "source": [
    "df2 = df[qrange2].copy()\n",
    "fp = \"../../data/online_retail_Q2_2010.parquet\"\n",
    "df2.to_parquet(fp, index=False)"
   ]
  }
 ],
 "metadata": {
  "canvas": {
   "colorPalette": [
    "inherit",
    "inherit",
    "inherit",
    "inherit",
    "inherit",
    "inherit",
    "inherit",
    "inherit",
    "inherit",
    "inherit"
   ],
   "parameters": [],
   "version": "1.0"
  },
  "kernelspec": {
   "display_name": "Python 3 (ipykernel)",
   "language": "python",
   "name": "python3"
  },
  "language_info": {
   "codemirror_mode": {
    "name": "ipython",
    "version": 3
   },
   "file_extension": ".py",
   "mimetype": "text/x-python",
   "name": "python",
   "nbconvert_exporter": "python",
   "pygments_lexer": "ipython3",
   "version": "3.10.13"
  }
 },
 "nbformat": 4,
 "nbformat_minor": 5
}
